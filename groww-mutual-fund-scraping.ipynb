{
 "cells": [
  {
   "cell_type": "code",
   "execution_count": 1,
   "id": "92d1cf8c",
   "metadata": {
    "_cell_guid": "b1076dfc-b9ad-4769-8c92-a6c4dae69d19",
    "_uuid": "8f2839f25d086af736a60e9eeb907d3b93b6e0e5",
    "execution": {
     "iopub.execute_input": "2022-09-07T19:20:12.859081Z",
     "iopub.status.busy": "2022-09-07T19:20:12.858472Z",
     "iopub.status.idle": "2022-09-07T19:20:12.873907Z",
     "shell.execute_reply": "2022-09-07T19:20:12.872819Z"
    },
    "papermill": {
     "duration": 0.028364,
     "end_time": "2022-09-07T19:20:12.876457",
     "exception": false,
     "start_time": "2022-09-07T19:20:12.848093",
     "status": "completed"
    },
    "tags": []
   },
   "outputs": [],
   "source": [
    "import numpy as np # linear algebra\n",
    "import pandas as pd # data processing, CSV file I/O (e.g. pd.read_csv)"
   ]
  },
  {
   "cell_type": "code",
   "execution_count": 2,
   "id": "60cb5531",
   "metadata": {
    "execution": {
     "iopub.execute_input": "2022-09-07T19:20:12.892496Z",
     "iopub.status.busy": "2022-09-07T19:20:12.892011Z",
     "iopub.status.idle": "2022-09-07T19:20:13.108142Z",
     "shell.execute_reply": "2022-09-07T19:20:13.106932Z"
    },
    "papermill": {
     "duration": 0.227369,
     "end_time": "2022-09-07T19:20:13.110885",
     "exception": false,
     "start_time": "2022-09-07T19:20:12.883516",
     "status": "completed"
    },
    "tags": []
   },
   "outputs": [],
   "source": [
    "from bs4 import BeautifulSoup\n",
    "import requests "
   ]
  },
  {
   "cell_type": "markdown",
   "id": "c1bbee15",
   "metadata": {
    "papermill": {
     "duration": 0.010649,
     "end_time": "2022-09-07T19:20:14.175733",
     "exception": false,
     "start_time": "2022-09-07T19:20:14.165084",
     "status": "completed"
    },
    "tags": []
   },
   "source": [
    "# Compiling mutual fund data from all pages of Groww Investment platform"
   ]
  },
  {
   "cell_type": "code",
   "execution_count": 6,
   "id": "ab367f5b",
   "metadata": {},
   "outputs": [
    {
     "name": "stdout",
     "output_type": "stream",
     "text": [
      "<class 'pandas.core.frame.DataFrame'>\n",
      "Index: 0 entries\n",
      "Data columns (total 7 columns):\n",
      " #   Column            Non-Null Count  Dtype \n",
      "---  ------            --------------  ----- \n",
      " 0   Mutual Fund Name  0 non-null      object\n",
      " 1   fund_rating       0 non-null      object\n",
      " 2   return_1yr        0 non-null      object\n",
      " 3   return_3yr        0 non-null      object\n",
      " 4   return_5yr        0 non-null      object\n",
      " 5   risk_type         0 non-null      object\n",
      " 6   category          0 non-null      object\n",
      "dtypes: object(7)\n",
      "memory usage: 0.0+ bytes\n"
     ]
    }
   ],
   "source": [
    "final=pd.DataFrame(columns=['Mutual Fund Name','fund_rating','return_1yr',\n",
    "      'return_3yr','return_5yr',\n",
    "      'risk_type','category'])\n",
    "\n",
    "final.info()"
   ]
  },
  {
   "cell_type": "code",
   "execution_count": 9,
   "id": "fb8f70c1",
   "metadata": {
    "execution": {
     "iopub.execute_input": "2022-09-07T19:20:14.201490Z",
     "iopub.status.busy": "2022-09-07T19:20:14.200723Z",
     "iopub.status.idle": "2022-09-07T19:21:12.133802Z",
     "shell.execute_reply": "2022-09-07T19:21:12.132795Z"
    },
    "papermill": {
     "duration": 57.949747,
     "end_time": "2022-09-07T19:21:12.136455",
     "exception": false,
     "start_time": "2022-09-07T19:20:14.186708",
     "status": "completed"
    },
    "tags": []
   },
   "outputs": [],
   "source": [
    "for j in range(73):\n",
    "    url='https://groww.in/mutual-funds/filter?q=&fundSize=&pageNo={}&sortBy=0'.format(j)\n",
    "    page=requests.get(url)\n",
    "    soup=BeautifulSoup(page.content,'html.parser')\n",
    " \n",
    "  #  fund containers\n",
    "    fund=soup.find_all('tr',class_=\"f22Card\")\n",
    "\n",
    "  #scraping all field from each section\n",
    "    name=[]\n",
    "    rating=[]\n",
    "    return_1yr=[]\n",
    "    return_3yr=[]\n",
    "    return_5yr=[]\n",
    "    risk_type=[]\n",
    "    category=[]\n",
    "    \n",
    "\n",
    "    for i in fund:\n",
    "        name.append(i.find('div',class_=\"fs14 clrText fw500 f22LH34 f22Mb4 truncate\").text.strip())\n",
    "        return_1yr.append(i.find_all('div',class_=\"fs14 clrText fw500 center-align f22Mb4\")[0].text.strip())\n",
    "        return_3yr.append(i.find_all('div',class_=\"fs14 clrText fw500 center-align f22Mb4\")[1].text.strip())\n",
    "        return_5yr.append(i.find_all('div',class_=\"fs14 clrText fw500 center-align f22Mb4\")[2].text.strip())\n",
    "        risk_type.append(i.find('div',class_=\"fs12 fw500 clrSubText f22Ls2\").text.strip())\n",
    "        category.append(i.find('div',class_=\"fs12 fw500clrSubText f22Ls2\").text.strip())\n",
    "        try: \n",
    "              rating.append(i.find('div',class_=\"fs12 fw500 clrSubText f22Ls2 valign-wrapper\").text.strip())\n",
    "        except:\n",
    "              rating.append(np.nan)\n",
    "\n",
    "    d={'Mutual Fund Name':name,'fund_rating':rating,'return_1yr':return_1yr,\n",
    "      'return_3yr':return_3yr,'return_5yr':return_5yr,\n",
    "      'risk_type':risk_type,'category':category} \n",
    "    \n",
    "    df=pd.DataFrame(d)\n",
    "\n",
    "    #combining dataframes from each page\n",
    "    final = pd.concat([final,df],ignore_index=True)  "
   ]
  },
  {
   "cell_type": "code",
   "execution_count": 12,
   "id": "bd444cfa",
   "metadata": {},
   "outputs": [],
   "source": [
    "final.to_parquet('mutual_funds.gzip', compression='gzip')"
   ]
  },
  {
   "attachments": {},
   "cell_type": "markdown",
   "id": "ad265715",
   "metadata": {},
   "source": [
    "# Get Historical Data"
   ]
  },
  {
   "cell_type": "code",
   "execution_count": 28,
   "id": "54a2284a",
   "metadata": {},
   "outputs": [],
   "source": [
    "daterange = pd.date_range(start=\"2022-05-01\", end=\"2023-04-30\", freq='B').strftime('%d-%b-%Y').tolist() \n"
   ]
  },
  {
   "cell_type": "code",
   "execution_count": 29,
   "id": "5208b458",
   "metadata": {},
   "outputs": [
    {
     "name": "stdout",
     "output_type": "stream",
     "text": [
      "28-Apr-2023\n"
     ]
    }
   ],
   "source": [
    "from IPython.display import clear_output\n",
    "from io import StringIO\n",
    "final = pd.DataFrame(columns=['Scheme Code','Scheme Name','ISIN Div Payout/ISIN Growth','ISIN Div Reinvestment','Net Asset Value','Repurchase Price','Sale Price','Date'])\n",
    "\n",
    "for date in daterange:\n",
    "    clear_output(wait=True)\n",
    "    hurl = f'https://portal.amfiindia.com/DownloadNAVHistoryReport_Po.aspx?tp=1&frmdt={date}'\n",
    "    try:\n",
    "        data = requests.get(hurl)\n",
    "    except:\n",
    "        continue\n",
    "    file1 = []\n",
    "    for line in data.text.split('\\n'):\n",
    "        if line.find(';')!=-1: file1.append(line)\n",
    "        else: continue \n",
    "    ssvfile = '\\n'.join(file1)\n",
    "    df = pd.read_csv(StringIO(ssvfile), sep=\";\")\n",
    "    final = pd.concat([final, df], ignore_index=True)\n",
    "    print(date)\n",
    "    "
   ]
  },
  {
   "cell_type": "code",
   "execution_count": 30,
   "id": "c25a08e4",
   "metadata": {},
   "outputs": [
    {
     "name": "stdout",
     "output_type": "stream",
     "text": [
      "<class 'pandas.core.frame.DataFrame'>\n",
      "RangeIndex: 1563130 entries, 0 to 1563129\n",
      "Data columns (total 8 columns):\n",
      " #   Column                       Non-Null Count    Dtype         \n",
      "---  ------                       --------------    -----         \n",
      " 0   Scheme Code                  1563130 non-null  object        \n",
      " 1   Scheme Name                  1563130 non-null  object        \n",
      " 2   ISIN Div Payout/ISIN Growth  1402799 non-null  object        \n",
      " 3   ISIN Div Reinvestment        804131 non-null   object        \n",
      " 4   Net Asset Value              1563130 non-null  object        \n",
      " 5   Repurchase Price             0 non-null        float64       \n",
      " 6   Sale Price                   0 non-null        float64       \n",
      " 7   Date                         1563130 non-null  datetime64[ns]\n",
      "dtypes: datetime64[ns](1), float64(2), object(5)\n",
      "memory usage: 95.4+ MB\n"
     ]
    }
   ],
   "source": [
    "final['Date'] = pd.to_datetime(final['Date'])\n",
    "final.info()"
   ]
  },
  {
   "cell_type": "code",
   "execution_count": 31,
   "id": "5e99c45a",
   "metadata": {},
   "outputs": [],
   "source": [
    "final['Year'] = final['Date'].dt.year\n",
    "final['Month'] = final['Date'].dt.month\n",
    "final['Day'] = final['Date'].dt.day"
   ]
  },
  {
   "cell_type": "code",
   "execution_count": 32,
   "id": "f5d03bce",
   "metadata": {},
   "outputs": [],
   "source": [
    "#final.info()\n",
    "#final.sample(5)\n",
    "final = final.drop(columns=['ISIN Div Payout/ISIN Growth','ISIN Div Reinvestment','Repurchase Price','Sale Price','Date'])"
   ]
  },
  {
   "cell_type": "code",
   "execution_count": 33,
   "id": "d9670d5e",
   "metadata": {},
   "outputs": [
    {
     "name": "stdout",
     "output_type": "stream",
     "text": [
      "<class 'pandas.core.frame.DataFrame'>\n",
      "RangeIndex: 1563130 entries, 0 to 1563129\n",
      "Data columns (total 6 columns):\n",
      " #   Column           Non-Null Count    Dtype  \n",
      "---  ------           --------------    -----  \n",
      " 0   Scheme Code      1563130 non-null  object \n",
      " 1   Scheme Name      1563130 non-null  object \n",
      " 2   Net Asset Value  1563126 non-null  float64\n",
      " 3   Year             1563130 non-null  int64  \n",
      " 4   Month            1563130 non-null  int64  \n",
      " 5   Day              1563130 non-null  int64  \n",
      "dtypes: float64(1), int64(3), object(2)\n",
      "memory usage: 71.6+ MB\n"
     ]
    }
   ],
   "source": [
    "final['Net Asset Value'] = final['Net Asset Value'].replace('N.A.', np.nan).dropna()\n",
    "\n",
    "final['Net Asset Value'] = pd.to_numeric(final['Net Asset Value'])\n",
    "final.info()\n"
   ]
  },
  {
   "cell_type": "code",
   "execution_count": 34,
   "id": "95a4db56",
   "metadata": {},
   "outputs": [],
   "source": [
    "final.to_parquet('mutual_funds_historical2023.gzip', compression='gzip', partition_cols=['Year', 'Month', 'Day'])"
   ]
  },
  {
   "attachments": {},
   "cell_type": "markdown",
   "id": "5912feaa",
   "metadata": {},
   "source": [
    "# Combining Parquets"
   ]
  },
  {
   "cell_type": "code",
   "execution_count": 35,
   "id": "807808cb",
   "metadata": {},
   "outputs": [],
   "source": [
    "df2021 = pd.read_parquet('mutual_funds_historical2021.gzip')\n",
    "df2022 = pd.read_parquet('mutual_funds_historical2022.gzip')\n",
    "df2023 = pd.read_parquet('mutual_funds_historical2023.gzip')\n",
    "\n",
    "finalhs = pd.concat([df2021,df2022,df2023], ignore_index=True)"
   ]
  },
  {
   "cell_type": "code",
   "execution_count": 37,
   "id": "042422f8",
   "metadata": {},
   "outputs": [],
   "source": [
    "finalhs.to_parquet('mutual_funds_historical.gzip', compression='gzip', partition_cols=['Year', 'Month', 'Day'])"
   ]
  },
  {
   "attachments": {},
   "cell_type": "markdown",
   "id": "e3b0be64",
   "metadata": {},
   "source": [
    "# Starting analysis"
   ]
  },
  {
   "cell_type": "code",
   "execution_count": 3,
   "id": "62470959",
   "metadata": {},
   "outputs": [
    {
     "data": {
      "text/html": [
       "<div>\n",
       "<style scoped>\n",
       "    .dataframe tbody tr th:only-of-type {\n",
       "        vertical-align: middle;\n",
       "    }\n",
       "\n",
       "    .dataframe tbody tr th {\n",
       "        vertical-align: top;\n",
       "    }\n",
       "\n",
       "    .dataframe thead th {\n",
       "        text-align: right;\n",
       "    }\n",
       "</style>\n",
       "<table border=\"1\" class=\"dataframe\">\n",
       "  <thead>\n",
       "    <tr style=\"text-align: right;\">\n",
       "      <th></th>\n",
       "      <th>Scheme Name</th>\n",
       "      <th>Net Asset Value</th>\n",
       "      <th>Day</th>\n",
       "      <th>Month</th>\n",
       "      <th>Year</th>\n",
       "    </tr>\n",
       "  </thead>\n",
       "  <tbody>\n",
       "    <tr>\n",
       "      <th>2890896</th>\n",
       "      <td>UTI CCF Investment Plan - Direct Plan - Growth...</td>\n",
       "      <td>65.3481</td>\n",
       "      <td>7</td>\n",
       "      <td>11</td>\n",
       "      <td>2022</td>\n",
       "    </tr>\n",
       "    <tr>\n",
       "      <th>4403616</th>\n",
       "      <td>Templeton India Equity Income Fund-Growth Plan</td>\n",
       "      <td>87.3934</td>\n",
       "      <td>23</td>\n",
       "      <td>3</td>\n",
       "      <td>2023</td>\n",
       "    </tr>\n",
       "    <tr>\n",
       "      <th>2578727</th>\n",
       "      <td>Mirae Asset Equity Savings Fund Direct IDCW</td>\n",
       "      <td>14.0760</td>\n",
       "      <td>20</td>\n",
       "      <td>1</td>\n",
       "      <td>2022</td>\n",
       "    </tr>\n",
       "    <tr>\n",
       "      <th>3991278</th>\n",
       "      <td>Axis Short Term Fund - Direct Plan - Growth Op...</td>\n",
       "      <td>27.0734</td>\n",
       "      <td>21</td>\n",
       "      <td>9</td>\n",
       "      <td>2022</td>\n",
       "    </tr>\n",
       "    <tr>\n",
       "      <th>159833</th>\n",
       "      <td>DSP Focus Fund - Direct Plan - Growth</td>\n",
       "      <td>27.1920</td>\n",
       "      <td>19</td>\n",
       "      <td>11</td>\n",
       "      <td>2020</td>\n",
       "    </tr>\n",
       "    <tr>\n",
       "      <th>2557951</th>\n",
       "      <td>ICICI Prudential Medium Term Bond Fund - Direc...</td>\n",
       "      <td>38.0482</td>\n",
       "      <td>17</td>\n",
       "      <td>1</td>\n",
       "      <td>2022</td>\n",
       "    </tr>\n",
       "    <tr>\n",
       "      <th>2862893</th>\n",
       "      <td>Sundaram Low Duration Fund (Formerly Known as ...</td>\n",
       "      <td>1088.7624</td>\n",
       "      <td>29</td>\n",
       "      <td>11</td>\n",
       "      <td>2022</td>\n",
       "    </tr>\n",
       "    <tr>\n",
       "      <th>117795</th>\n",
       "      <td>Taurus Banking &amp; Financial Services Fund - Reg...</td>\n",
       "      <td>20.7500</td>\n",
       "      <td>9</td>\n",
       "      <td>10</td>\n",
       "      <td>2020</td>\n",
       "    </tr>\n",
       "    <tr>\n",
       "      <th>4460670</th>\n",
       "      <td>Axis Gilt Fund - Direct Plan - Regular IDCW</td>\n",
       "      <td>10.0150</td>\n",
       "      <td>8</td>\n",
       "      <td>3</td>\n",
       "      <td>2023</td>\n",
       "    </tr>\n",
       "    <tr>\n",
       "      <th>3565950</th>\n",
       "      <td>ITI Ultra Short Duration Fund - Regular Plan -...</td>\n",
       "      <td>1001.0000</td>\n",
       "      <td>15</td>\n",
       "      <td>6</td>\n",
       "      <td>2022</td>\n",
       "    </tr>\n",
       "  </tbody>\n",
       "</table>\n",
       "</div>"
      ],
      "text/plain": [
       "                                               Scheme Name  Net Asset Value  \\\n",
       "2890896  UTI CCF Investment Plan - Direct Plan - Growth...          65.3481   \n",
       "4403616     Templeton India Equity Income Fund-Growth Plan          87.3934   \n",
       "2578727        Mirae Asset Equity Savings Fund Direct IDCW          14.0760   \n",
       "3991278  Axis Short Term Fund - Direct Plan - Growth Op...          27.0734   \n",
       "159833               DSP Focus Fund - Direct Plan - Growth          27.1920   \n",
       "2557951  ICICI Prudential Medium Term Bond Fund - Direc...          38.0482   \n",
       "2862893  Sundaram Low Duration Fund (Formerly Known as ...        1088.7624   \n",
       "117795   Taurus Banking & Financial Services Fund - Reg...          20.7500   \n",
       "4460670        Axis Gilt Fund - Direct Plan - Regular IDCW          10.0150   \n",
       "3565950  ITI Ultra Short Duration Fund - Regular Plan -...        1001.0000   \n",
       "\n",
       "        Day Month  Year  \n",
       "2890896   7    11  2022  \n",
       "4403616  23     3  2023  \n",
       "2578727  20     1  2022  \n",
       "3991278  21     9  2022  \n",
       "159833   19    11  2020  \n",
       "2557951  17     1  2022  \n",
       "2862893  29    11  2022  \n",
       "117795    9    10  2020  \n",
       "4460670   8     3  2023  \n",
       "3565950  15     6  2022  "
      ]
     },
     "execution_count": 3,
     "metadata": {},
     "output_type": "execute_result"
    }
   ],
   "source": [
    "df = pd.read_parquet(\"mutual_funds_historical.gzip\", columns=[\"Scheme Name\", \"Net Asset Value\", \"Day\", \"Month\", \"Year\"])\n",
    "df.sample(10)"
   ]
  },
  {
   "cell_type": "code",
   "execution_count": null,
   "id": "23246d08",
   "metadata": {},
   "outputs": [],
   "source": []
  }
 ],
 "metadata": {
  "kernelspec": {
   "display_name": "mutualfundenv",
   "language": "python",
   "name": "python3"
  },
  "language_info": {
   "codemirror_mode": {
    "name": "ipython",
    "version": 3
   },
   "file_extension": ".py",
   "mimetype": "text/x-python",
   "name": "python",
   "nbconvert_exporter": "python",
   "pygments_lexer": "ipython3",
   "version": "3.10.9"
  },
  "papermill": {
   "default_parameters": {},
   "duration": 69.760751,
   "end_time": "2022-09-07T19:21:13.493788",
   "environment_variables": {},
   "exception": null,
   "input_path": "__notebook__.ipynb",
   "output_path": "__notebook__.ipynb",
   "parameters": {},
   "start_time": "2022-09-07T19:20:03.733037",
   "version": "2.3.4"
  },
  "vscode": {
   "interpreter": {
    "hash": "b62ae7a52a52dbde505833f5ee188da33a8bf2511b1d345d61427a0318b83a12"
   }
  }
 },
 "nbformat": 4,
 "nbformat_minor": 5
}
