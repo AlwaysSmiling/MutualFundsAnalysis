{
 "cells": [
  {
   "cell_type": "code",
   "execution_count": 47,
   "id": "92d1cf8c",
   "metadata": {
    "_cell_guid": "b1076dfc-b9ad-4769-8c92-a6c4dae69d19",
    "_uuid": "8f2839f25d086af736a60e9eeb907d3b93b6e0e5",
    "execution": {
     "iopub.execute_input": "2022-09-07T19:20:12.859081Z",
     "iopub.status.busy": "2022-09-07T19:20:12.858472Z",
     "iopub.status.idle": "2022-09-07T19:20:12.873907Z",
     "shell.execute_reply": "2022-09-07T19:20:12.872819Z"
    },
    "papermill": {
     "duration": 0.028364,
     "end_time": "2022-09-07T19:20:12.876457",
     "exception": false,
     "start_time": "2022-09-07T19:20:12.848093",
     "status": "completed"
    },
    "tags": []
   },
   "outputs": [],
   "source": [
    "import numpy as np # linear algebra\n",
    "import pandas as pd # data processing, CSV file I/O (e.g. pd.read_csv)"
   ]
  },
  {
   "cell_type": "code",
   "execution_count": 48,
   "id": "60cb5531",
   "metadata": {
    "execution": {
     "iopub.execute_input": "2022-09-07T19:20:12.892496Z",
     "iopub.status.busy": "2022-09-07T19:20:12.892011Z",
     "iopub.status.idle": "2022-09-07T19:20:13.108142Z",
     "shell.execute_reply": "2022-09-07T19:20:13.106932Z"
    },
    "papermill": {
     "duration": 0.227369,
     "end_time": "2022-09-07T19:20:13.110885",
     "exception": false,
     "start_time": "2022-09-07T19:20:12.883516",
     "status": "completed"
    },
    "tags": []
   },
   "outputs": [],
   "source": [
    "from bs4 import BeautifulSoup\n",
    "import requests "
   ]
  },
  {
   "cell_type": "code",
   "execution_count": 49,
   "id": "fad1ba1b",
   "metadata": {
    "execution": {
     "iopub.execute_input": "2022-09-07T19:20:13.126177Z",
     "iopub.status.busy": "2022-09-07T19:20:13.125744Z",
     "iopub.status.idle": "2022-09-07T19:20:13.868866Z",
     "shell.execute_reply": "2022-09-07T19:20:13.867670Z"
    },
    "papermill": {
     "duration": 0.753958,
     "end_time": "2022-09-07T19:20:13.871694",
     "exception": false,
     "start_time": "2022-09-07T19:20:13.117736",
     "status": "completed"
    },
    "tags": []
   },
   "outputs": [
    {
     "data": {
      "text/plain": [
       "<Response [200]>"
      ]
     },
     "execution_count": 49,
     "metadata": {},
     "output_type": "execute_result"
    }
   ],
   "source": [
    "url='https://groww.in/mutual-funds/filter?q=&fundSize=&pageNo=0&sortBy=0'\n",
    "page=requests.get(url)\n",
    "page"
   ]
  },
  {
   "cell_type": "code",
   "execution_count": 50,
   "id": "ad5c98a9",
   "metadata": {
    "execution": {
     "iopub.execute_input": "2022-09-07T19:20:13.887929Z",
     "iopub.status.busy": "2022-09-07T19:20:13.887502Z",
     "iopub.status.idle": "2022-09-07T19:20:13.939297Z",
     "shell.execute_reply": "2022-09-07T19:20:13.938012Z"
    },
    "papermill": {
     "duration": 0.062864,
     "end_time": "2022-09-07T19:20:13.941755",
     "exception": false,
     "start_time": "2022-09-07T19:20:13.878891",
     "status": "completed"
    },
    "tags": []
   },
   "outputs": [],
   "source": [
    "soup=BeautifulSoup(page.content,'html.parser')"
   ]
  },
  {
   "cell_type": "code",
   "execution_count": 51,
   "id": "df846c59",
   "metadata": {
    "execution": {
     "iopub.execute_input": "2022-09-07T19:20:14.029812Z",
     "iopub.status.busy": "2022-09-07T19:20:14.029425Z",
     "iopub.status.idle": "2022-09-07T19:20:14.036379Z",
     "shell.execute_reply": "2022-09-07T19:20:14.035584Z"
    },
    "papermill": {
     "duration": 0.02055,
     "end_time": "2022-09-07T19:20:14.038374",
     "exception": false,
     "start_time": "2022-09-07T19:20:14.017824",
     "status": "completed"
    },
    "tags": []
   },
   "outputs": [],
   "source": [
    "# html section containing each fund information in first page\n",
    "fund=soup.find_all('tr',class_=\"f22Card\")"
   ]
  },
  {
   "cell_type": "code",
   "execution_count": 52,
   "id": "1cef19ab",
   "metadata": {
    "execution": {
     "iopub.execute_input": "2022-09-07T19:20:14.063172Z",
     "iopub.status.busy": "2022-09-07T19:20:14.062797Z",
     "iopub.status.idle": "2022-09-07T19:20:14.101948Z",
     "shell.execute_reply": "2022-09-07T19:20:14.101022Z"
    },
    "papermill": {
     "duration": 0.054443,
     "end_time": "2022-09-07T19:20:14.104542",
     "exception": false,
     "start_time": "2022-09-07T19:20:14.050099",
     "status": "completed"
    },
    "tags": []
   },
   "outputs": [],
   "source": [
    "name=[]    # name of fund\n",
    "rating=[]  # performance rating of fund by experts \n",
    "return_1yr=[]   # last 1 yr return\n",
    "return_3yr=[]    # last 3 yr return\n",
    "return_5yr=[]    # last 5 yr return\n",
    "risk_type=[]     # degree of risk\n",
    "category=[]      # fund_category\n",
    "url=[]      # url for more detail\n",
    "\n",
    "for i in fund:\n",
    "    name.append(i.find('div',class_=\"fs14 clrText fw500 f22LH34 f22Mb4 truncate\").text.strip())\n",
    "    return_1yr.append(i.find_all('div',class_=\"fs14 clrText fw500 center-align f22Mb4\")[0].text.strip())\n",
    "    return_3yr.append(i.find_all('div',class_=\"fs14 clrText fw500 center-align f22Mb4\")[1].text.strip())\n",
    "    return_5yr.append(i.find_all('div',class_=\"fs14 clrText fw500 center-align f22Mb4\")[2].text.strip())\n",
    "    risk_type.append(i.find('div',class_=\"fs12 fw500 clrSubText f22Ls2\").text.strip())\n",
    "    category.append(i.find('div',class_=\"fs12 fw500clrSubText f22Ls2\").text.strip())\n",
    "    url.append('https://groww.in'+i.a['href'])\n",
    "    try: \n",
    "          rating.append(i.find('div',class_=\"fs12 fw500 clrSubText f22Ls2 valign-wrapper\").text.strip())\n",
    "    except:\n",
    "          rating.append(np.nan)\n",
    "            \n",
    "# creating a Dataframe out of first page of results            \n",
    "            \n",
    "d={'Mutual Fund Name':name,'fund_rating':rating,'return_1yr':return_1yr,'return_3yr':return_3yr,'return_5yr':return_5yr,\n",
    "   'risk_type':risk_type,'category':category, 'url':url}\n",
    "df=pd.DataFrame(d)"
   ]
  },
  {
   "cell_type": "code",
   "execution_count": 53,
   "id": "496d0e0d",
   "metadata": {
    "execution": {
     "iopub.execute_input": "2022-09-07T19:20:14.127344Z",
     "iopub.status.busy": "2022-09-07T19:20:14.126933Z",
     "iopub.status.idle": "2022-09-07T19:20:14.152170Z",
     "shell.execute_reply": "2022-09-07T19:20:14.151343Z"
    },
    "papermill": {
     "duration": 0.039318,
     "end_time": "2022-09-07T19:20:14.154509",
     "exception": false,
     "start_time": "2022-09-07T19:20:14.115191",
     "status": "completed"
    },
    "tags": []
   },
   "outputs": [
    {
     "data": {
      "text/html": [
       "<div>\n",
       "<style scoped>\n",
       "    .dataframe tbody tr th:only-of-type {\n",
       "        vertical-align: middle;\n",
       "    }\n",
       "\n",
       "    .dataframe tbody tr th {\n",
       "        vertical-align: top;\n",
       "    }\n",
       "\n",
       "    .dataframe thead th {\n",
       "        text-align: right;\n",
       "    }\n",
       "</style>\n",
       "<table border=\"1\" class=\"dataframe\">\n",
       "  <thead>\n",
       "    <tr style=\"text-align: right;\">\n",
       "      <th></th>\n",
       "      <th>Mutual Fund Name</th>\n",
       "      <th>fund_rating</th>\n",
       "      <th>return_1yr</th>\n",
       "      <th>return_3yr</th>\n",
       "      <th>return_5yr</th>\n",
       "      <th>risk_type</th>\n",
       "      <th>category</th>\n",
       "      <th>url</th>\n",
       "    </tr>\n",
       "  </thead>\n",
       "  <tbody>\n",
       "    <tr>\n",
       "      <th>0</th>\n",
       "      <td>Quant Small Cap Fund Direct Plan Growth</td>\n",
       "      <td>5</td>\n",
       "      <td>7.21%</td>\n",
       "      <td>52.99%</td>\n",
       "      <td>24.68%</td>\n",
       "      <td>Very High Risk</td>\n",
       "      <td>Equity</td>\n",
       "      <td>https://groww.in/mutual-funds/quant-small-cap-...</td>\n",
       "    </tr>\n",
       "    <tr>\n",
       "      <th>1</th>\n",
       "      <td>Quant Infrastructure Fund Direct Growth</td>\n",
       "      <td>5</td>\n",
       "      <td>13.54%</td>\n",
       "      <td>40.54%</td>\n",
       "      <td>20.56%</td>\n",
       "      <td>Very High Risk</td>\n",
       "      <td>Equity</td>\n",
       "      <td>https://groww.in/mutual-funds/quant-infrastruc...</td>\n",
       "    </tr>\n",
       "    <tr>\n",
       "      <th>2</th>\n",
       "      <td>ICICI Prudential Commodities Fund Direct Growth</td>\n",
       "      <td>NaN</td>\n",
       "      <td>13.89%</td>\n",
       "      <td>40.39%</td>\n",
       "      <td>NA%</td>\n",
       "      <td>High Risk</td>\n",
       "      <td>Equity</td>\n",
       "      <td>https://groww.in/mutual-funds/icici-prudential...</td>\n",
       "    </tr>\n",
       "    <tr>\n",
       "      <th>3</th>\n",
       "      <td>Quant Tax Plan Direct Growth</td>\n",
       "      <td>5</td>\n",
       "      <td>10.80%</td>\n",
       "      <td>39.20%</td>\n",
       "      <td>22.33%</td>\n",
       "      <td>Very High Risk</td>\n",
       "      <td>Equity</td>\n",
       "      <td>https://groww.in/mutual-funds/quant-tax-plan-d...</td>\n",
       "    </tr>\n",
       "    <tr>\n",
       "      <th>4</th>\n",
       "      <td>Quant Flexi Cap Fund Direct Growth</td>\n",
       "      <td>NaN</td>\n",
       "      <td>10.06%</td>\n",
       "      <td>37.14%</td>\n",
       "      <td>18.56%</td>\n",
       "      <td>Very High Risk</td>\n",
       "      <td>Equity</td>\n",
       "      <td>https://groww.in/mutual-funds/quant-flexi-cap-...</td>\n",
       "    </tr>\n",
       "    <tr>\n",
       "      <th>5</th>\n",
       "      <td>Quant Mid Cap Fund Direct Growth</td>\n",
       "      <td>5</td>\n",
       "      <td>18.23%</td>\n",
       "      <td>35.98%</td>\n",
       "      <td>20.70%</td>\n",
       "      <td>Very High Risk</td>\n",
       "      <td>Equity</td>\n",
       "      <td>https://groww.in/mutual-funds/quant-mid-cap-fu...</td>\n",
       "    </tr>\n",
       "    <tr>\n",
       "      <th>6</th>\n",
       "      <td>Bank of India Small Cap Fund Direct Growth</td>\n",
       "      <td>4</td>\n",
       "      <td>-2.32%</td>\n",
       "      <td>35.53%</td>\n",
       "      <td>NA%</td>\n",
       "      <td>Very High Risk</td>\n",
       "      <td>Equity</td>\n",
       "      <td>https://groww.in/mutual-funds/boi-axa-small-ca...</td>\n",
       "    </tr>\n",
       "    <tr>\n",
       "      <th>7</th>\n",
       "      <td>Quant Active Fund Direct Growth</td>\n",
       "      <td>NaN</td>\n",
       "      <td>9.61%</td>\n",
       "      <td>35.48%</td>\n",
       "      <td>21.19%</td>\n",
       "      <td>Very High Risk</td>\n",
       "      <td>Equity</td>\n",
       "      <td>https://groww.in/mutual-funds/quant-active-fun...</td>\n",
       "    </tr>\n",
       "    <tr>\n",
       "      <th>8</th>\n",
       "      <td>Canara Robeco Small Cap Fund Direct Growth</td>\n",
       "      <td>5</td>\n",
       "      <td>3.15%</td>\n",
       "      <td>35.09%</td>\n",
       "      <td>NA%</td>\n",
       "      <td>Very High Risk</td>\n",
       "      <td>Equity</td>\n",
       "      <td>https://groww.in/mutual-funds/canara-robeco-sm...</td>\n",
       "    </tr>\n",
       "    <tr>\n",
       "      <th>9</th>\n",
       "      <td>PGIM India Midcap Opportunities Fund Direct Gr...</td>\n",
       "      <td>5</td>\n",
       "      <td>-1.37%</td>\n",
       "      <td>32.83%</td>\n",
       "      <td>17.64%</td>\n",
       "      <td>Very High Risk</td>\n",
       "      <td>Equity</td>\n",
       "      <td>https://groww.in/mutual-funds/pgim-india-midca...</td>\n",
       "    </tr>\n",
       "    <tr>\n",
       "      <th>10</th>\n",
       "      <td>ICICI Prudential Technology Direct Plan Growth</td>\n",
       "      <td>NaN</td>\n",
       "      <td>-14.58%</td>\n",
       "      <td>32.16%</td>\n",
       "      <td>22.84%</td>\n",
       "      <td>Very High Risk</td>\n",
       "      <td>Equity</td>\n",
       "      <td>https://groww.in/mutual-funds/icici-prudential...</td>\n",
       "    </tr>\n",
       "    <tr>\n",
       "      <th>11</th>\n",
       "      <td>Quant Multi Asset Fund Direct Growth</td>\n",
       "      <td>5</td>\n",
       "      <td>13.11%</td>\n",
       "      <td>31.76%</td>\n",
       "      <td>21.76%</td>\n",
       "      <td>Very High Risk</td>\n",
       "      <td>Hybrid</td>\n",
       "      <td>https://groww.in/mutual-funds/quant-multi-asse...</td>\n",
       "    </tr>\n",
       "    <tr>\n",
       "      <th>12</th>\n",
       "      <td>Nippon India Small Cap Fund Direct Growth</td>\n",
       "      <td>4</td>\n",
       "      <td>5.15%</td>\n",
       "      <td>31.61%</td>\n",
       "      <td>14.57%</td>\n",
       "      <td>Very High Risk</td>\n",
       "      <td>Equity</td>\n",
       "      <td>https://groww.in/mutual-funds/nippon-india-sma...</td>\n",
       "    </tr>\n",
       "    <tr>\n",
       "      <th>13</th>\n",
       "      <td>Quant Absolute Fund Direct Growth</td>\n",
       "      <td>5</td>\n",
       "      <td>13.14%</td>\n",
       "      <td>30.50%</td>\n",
       "      <td>18.82%</td>\n",
       "      <td>Very High Risk</td>\n",
       "      <td>Hybrid</td>\n",
       "      <td>https://groww.in/mutual-funds/quant-absolute-f...</td>\n",
       "    </tr>\n",
       "    <tr>\n",
       "      <th>14</th>\n",
       "      <td>Tata Small Cap Fund Direct Growth</td>\n",
       "      <td>3</td>\n",
       "      <td>8.52%</td>\n",
       "      <td>30.49%</td>\n",
       "      <td>NA%</td>\n",
       "      <td>Very High Risk</td>\n",
       "      <td>Equity</td>\n",
       "      <td>https://groww.in/mutual-funds/tata-small-cap-f...</td>\n",
       "    </tr>\n",
       "  </tbody>\n",
       "</table>\n",
       "</div>"
      ],
      "text/plain": [
       "                                     Mutual Fund Name fund_rating return_1yr  \\\n",
       "0             Quant Small Cap Fund Direct Plan Growth           5      7.21%   \n",
       "1             Quant Infrastructure Fund Direct Growth           5     13.54%   \n",
       "2     ICICI Prudential Commodities Fund Direct Growth         NaN     13.89%   \n",
       "3                        Quant Tax Plan Direct Growth           5     10.80%   \n",
       "4                  Quant Flexi Cap Fund Direct Growth         NaN     10.06%   \n",
       "5                    Quant Mid Cap Fund Direct Growth           5     18.23%   \n",
       "6          Bank of India Small Cap Fund Direct Growth           4     -2.32%   \n",
       "7                     Quant Active Fund Direct Growth         NaN      9.61%   \n",
       "8          Canara Robeco Small Cap Fund Direct Growth           5      3.15%   \n",
       "9   PGIM India Midcap Opportunities Fund Direct Gr...           5     -1.37%   \n",
       "10     ICICI Prudential Technology Direct Plan Growth         NaN    -14.58%   \n",
       "11               Quant Multi Asset Fund Direct Growth           5     13.11%   \n",
       "12          Nippon India Small Cap Fund Direct Growth           4      5.15%   \n",
       "13                  Quant Absolute Fund Direct Growth           5     13.14%   \n",
       "14                  Tata Small Cap Fund Direct Growth           3      8.52%   \n",
       "\n",
       "   return_3yr return_5yr       risk_type category  \\\n",
       "0      52.99%     24.68%  Very High Risk   Equity   \n",
       "1      40.54%     20.56%  Very High Risk   Equity   \n",
       "2      40.39%        NA%       High Risk   Equity   \n",
       "3      39.20%     22.33%  Very High Risk   Equity   \n",
       "4      37.14%     18.56%  Very High Risk   Equity   \n",
       "5      35.98%     20.70%  Very High Risk   Equity   \n",
       "6      35.53%        NA%  Very High Risk   Equity   \n",
       "7      35.48%     21.19%  Very High Risk   Equity   \n",
       "8      35.09%        NA%  Very High Risk   Equity   \n",
       "9      32.83%     17.64%  Very High Risk   Equity   \n",
       "10     32.16%     22.84%  Very High Risk   Equity   \n",
       "11     31.76%     21.76%  Very High Risk   Hybrid   \n",
       "12     31.61%     14.57%  Very High Risk   Equity   \n",
       "13     30.50%     18.82%  Very High Risk   Hybrid   \n",
       "14     30.49%        NA%  Very High Risk   Equity   \n",
       "\n",
       "                                                  url  \n",
       "0   https://groww.in/mutual-funds/quant-small-cap-...  \n",
       "1   https://groww.in/mutual-funds/quant-infrastruc...  \n",
       "2   https://groww.in/mutual-funds/icici-prudential...  \n",
       "3   https://groww.in/mutual-funds/quant-tax-plan-d...  \n",
       "4   https://groww.in/mutual-funds/quant-flexi-cap-...  \n",
       "5   https://groww.in/mutual-funds/quant-mid-cap-fu...  \n",
       "6   https://groww.in/mutual-funds/boi-axa-small-ca...  \n",
       "7   https://groww.in/mutual-funds/quant-active-fun...  \n",
       "8   https://groww.in/mutual-funds/canara-robeco-sm...  \n",
       "9   https://groww.in/mutual-funds/pgim-india-midca...  \n",
       "10  https://groww.in/mutual-funds/icici-prudential...  \n",
       "11  https://groww.in/mutual-funds/quant-multi-asse...  \n",
       "12  https://groww.in/mutual-funds/nippon-india-sma...  \n",
       "13  https://groww.in/mutual-funds/quant-absolute-f...  \n",
       "14  https://groww.in/mutual-funds/tata-small-cap-f...  "
      ]
     },
     "execution_count": 53,
     "metadata": {},
     "output_type": "execute_result"
    }
   ],
   "source": [
    "df"
   ]
  },
  {
   "cell_type": "markdown",
   "id": "c1bbee15",
   "metadata": {
    "papermill": {
     "duration": 0.010649,
     "end_time": "2022-09-07T19:20:14.175733",
     "exception": false,
     "start_time": "2022-09-07T19:20:14.165084",
     "status": "completed"
    },
    "tags": []
   },
   "source": [
    "# Compiling mutual fund data from all pages of Groww Investment platform"
   ]
  },
  {
   "cell_type": "code",
   "execution_count": 54,
   "id": "fb8f70c1",
   "metadata": {
    "execution": {
     "iopub.execute_input": "2022-09-07T19:20:14.201490Z",
     "iopub.status.busy": "2022-09-07T19:20:14.200723Z",
     "iopub.status.idle": "2022-09-07T19:21:12.133802Z",
     "shell.execute_reply": "2022-09-07T19:21:12.132795Z"
    },
    "papermill": {
     "duration": 57.949747,
     "end_time": "2022-09-07T19:21:12.136455",
     "exception": false,
     "start_time": "2022-09-07T19:20:14.186708",
     "status": "completed"
    },
    "tags": []
   },
   "outputs": [
    {
     "name": "stderr",
     "output_type": "stream",
     "text": [
      "/tmp/ipykernel_2433/1033285875.py:42: FutureWarning: The frame.append method is deprecated and will be removed from pandas in a future version. Use pandas.concat instead.\n",
      "  final=final.append(df,ignore_index=True)\n",
      "/tmp/ipykernel_2433/1033285875.py:42: FutureWarning: The frame.append method is deprecated and will be removed from pandas in a future version. Use pandas.concat instead.\n",
      "  final=final.append(df,ignore_index=True)\n",
      "/tmp/ipykernel_2433/1033285875.py:42: FutureWarning: The frame.append method is deprecated and will be removed from pandas in a future version. Use pandas.concat instead.\n",
      "  final=final.append(df,ignore_index=True)\n",
      "/tmp/ipykernel_2433/1033285875.py:42: FutureWarning: The frame.append method is deprecated and will be removed from pandas in a future version. Use pandas.concat instead.\n",
      "  final=final.append(df,ignore_index=True)\n",
      "/tmp/ipykernel_2433/1033285875.py:42: FutureWarning: The frame.append method is deprecated and will be removed from pandas in a future version. Use pandas.concat instead.\n",
      "  final=final.append(df,ignore_index=True)\n",
      "/tmp/ipykernel_2433/1033285875.py:42: FutureWarning: The frame.append method is deprecated and will be removed from pandas in a future version. Use pandas.concat instead.\n",
      "  final=final.append(df,ignore_index=True)\n",
      "/tmp/ipykernel_2433/1033285875.py:42: FutureWarning: The frame.append method is deprecated and will be removed from pandas in a future version. Use pandas.concat instead.\n",
      "  final=final.append(df,ignore_index=True)\n",
      "/tmp/ipykernel_2433/1033285875.py:42: FutureWarning: The frame.append method is deprecated and will be removed from pandas in a future version. Use pandas.concat instead.\n",
      "  final=final.append(df,ignore_index=True)\n",
      "/tmp/ipykernel_2433/1033285875.py:42: FutureWarning: The frame.append method is deprecated and will be removed from pandas in a future version. Use pandas.concat instead.\n",
      "  final=final.append(df,ignore_index=True)\n",
      "/tmp/ipykernel_2433/1033285875.py:42: FutureWarning: The frame.append method is deprecated and will be removed from pandas in a future version. Use pandas.concat instead.\n",
      "  final=final.append(df,ignore_index=True)\n",
      "/tmp/ipykernel_2433/1033285875.py:42: FutureWarning: The frame.append method is deprecated and will be removed from pandas in a future version. Use pandas.concat instead.\n",
      "  final=final.append(df,ignore_index=True)\n",
      "/tmp/ipykernel_2433/1033285875.py:42: FutureWarning: The frame.append method is deprecated and will be removed from pandas in a future version. Use pandas.concat instead.\n",
      "  final=final.append(df,ignore_index=True)\n",
      "/tmp/ipykernel_2433/1033285875.py:42: FutureWarning: The frame.append method is deprecated and will be removed from pandas in a future version. Use pandas.concat instead.\n",
      "  final=final.append(df,ignore_index=True)\n",
      "/tmp/ipykernel_2433/1033285875.py:42: FutureWarning: The frame.append method is deprecated and will be removed from pandas in a future version. Use pandas.concat instead.\n",
      "  final=final.append(df,ignore_index=True)\n",
      "/tmp/ipykernel_2433/1033285875.py:42: FutureWarning: The frame.append method is deprecated and will be removed from pandas in a future version. Use pandas.concat instead.\n",
      "  final=final.append(df,ignore_index=True)\n",
      "/tmp/ipykernel_2433/1033285875.py:42: FutureWarning: The frame.append method is deprecated and will be removed from pandas in a future version. Use pandas.concat instead.\n",
      "  final=final.append(df,ignore_index=True)\n",
      "/tmp/ipykernel_2433/1033285875.py:42: FutureWarning: The frame.append method is deprecated and will be removed from pandas in a future version. Use pandas.concat instead.\n",
      "  final=final.append(df,ignore_index=True)\n",
      "/tmp/ipykernel_2433/1033285875.py:42: FutureWarning: The frame.append method is deprecated and will be removed from pandas in a future version. Use pandas.concat instead.\n",
      "  final=final.append(df,ignore_index=True)\n",
      "/tmp/ipykernel_2433/1033285875.py:42: FutureWarning: The frame.append method is deprecated and will be removed from pandas in a future version. Use pandas.concat instead.\n",
      "  final=final.append(df,ignore_index=True)\n",
      "/tmp/ipykernel_2433/1033285875.py:42: FutureWarning: The frame.append method is deprecated and will be removed from pandas in a future version. Use pandas.concat instead.\n",
      "  final=final.append(df,ignore_index=True)\n",
      "/tmp/ipykernel_2433/1033285875.py:42: FutureWarning: The frame.append method is deprecated and will be removed from pandas in a future version. Use pandas.concat instead.\n",
      "  final=final.append(df,ignore_index=True)\n",
      "/tmp/ipykernel_2433/1033285875.py:42: FutureWarning: The frame.append method is deprecated and will be removed from pandas in a future version. Use pandas.concat instead.\n",
      "  final=final.append(df,ignore_index=True)\n",
      "/tmp/ipykernel_2433/1033285875.py:42: FutureWarning: The frame.append method is deprecated and will be removed from pandas in a future version. Use pandas.concat instead.\n",
      "  final=final.append(df,ignore_index=True)\n",
      "/tmp/ipykernel_2433/1033285875.py:42: FutureWarning: The frame.append method is deprecated and will be removed from pandas in a future version. Use pandas.concat instead.\n",
      "  final=final.append(df,ignore_index=True)\n",
      "/tmp/ipykernel_2433/1033285875.py:42: FutureWarning: The frame.append method is deprecated and will be removed from pandas in a future version. Use pandas.concat instead.\n",
      "  final=final.append(df,ignore_index=True)\n",
      "/tmp/ipykernel_2433/1033285875.py:42: FutureWarning: The frame.append method is deprecated and will be removed from pandas in a future version. Use pandas.concat instead.\n",
      "  final=final.append(df,ignore_index=True)\n",
      "/tmp/ipykernel_2433/1033285875.py:42: FutureWarning: The frame.append method is deprecated and will be removed from pandas in a future version. Use pandas.concat instead.\n",
      "  final=final.append(df,ignore_index=True)\n",
      "/tmp/ipykernel_2433/1033285875.py:42: FutureWarning: The frame.append method is deprecated and will be removed from pandas in a future version. Use pandas.concat instead.\n",
      "  final=final.append(df,ignore_index=True)\n",
      "/tmp/ipykernel_2433/1033285875.py:42: FutureWarning: The frame.append method is deprecated and will be removed from pandas in a future version. Use pandas.concat instead.\n",
      "  final=final.append(df,ignore_index=True)\n",
      "/tmp/ipykernel_2433/1033285875.py:42: FutureWarning: The frame.append method is deprecated and will be removed from pandas in a future version. Use pandas.concat instead.\n",
      "  final=final.append(df,ignore_index=True)\n",
      "/tmp/ipykernel_2433/1033285875.py:42: FutureWarning: The frame.append method is deprecated and will be removed from pandas in a future version. Use pandas.concat instead.\n",
      "  final=final.append(df,ignore_index=True)\n",
      "/tmp/ipykernel_2433/1033285875.py:42: FutureWarning: The frame.append method is deprecated and will be removed from pandas in a future version. Use pandas.concat instead.\n",
      "  final=final.append(df,ignore_index=True)\n",
      "/tmp/ipykernel_2433/1033285875.py:42: FutureWarning: The frame.append method is deprecated and will be removed from pandas in a future version. Use pandas.concat instead.\n",
      "  final=final.append(df,ignore_index=True)\n",
      "/tmp/ipykernel_2433/1033285875.py:42: FutureWarning: The frame.append method is deprecated and will be removed from pandas in a future version. Use pandas.concat instead.\n",
      "  final=final.append(df,ignore_index=True)\n",
      "/tmp/ipykernel_2433/1033285875.py:42: FutureWarning: The frame.append method is deprecated and will be removed from pandas in a future version. Use pandas.concat instead.\n",
      "  final=final.append(df,ignore_index=True)\n",
      "/tmp/ipykernel_2433/1033285875.py:42: FutureWarning: The frame.append method is deprecated and will be removed from pandas in a future version. Use pandas.concat instead.\n",
      "  final=final.append(df,ignore_index=True)\n",
      "/tmp/ipykernel_2433/1033285875.py:42: FutureWarning: The frame.append method is deprecated and will be removed from pandas in a future version. Use pandas.concat instead.\n",
      "  final=final.append(df,ignore_index=True)\n",
      "/tmp/ipykernel_2433/1033285875.py:42: FutureWarning: The frame.append method is deprecated and will be removed from pandas in a future version. Use pandas.concat instead.\n",
      "  final=final.append(df,ignore_index=True)\n",
      "/tmp/ipykernel_2433/1033285875.py:42: FutureWarning: The frame.append method is deprecated and will be removed from pandas in a future version. Use pandas.concat instead.\n",
      "  final=final.append(df,ignore_index=True)\n",
      "/tmp/ipykernel_2433/1033285875.py:42: FutureWarning: The frame.append method is deprecated and will be removed from pandas in a future version. Use pandas.concat instead.\n",
      "  final=final.append(df,ignore_index=True)\n",
      "/tmp/ipykernel_2433/1033285875.py:42: FutureWarning: The frame.append method is deprecated and will be removed from pandas in a future version. Use pandas.concat instead.\n",
      "  final=final.append(df,ignore_index=True)\n",
      "/tmp/ipykernel_2433/1033285875.py:42: FutureWarning: The frame.append method is deprecated and will be removed from pandas in a future version. Use pandas.concat instead.\n",
      "  final=final.append(df,ignore_index=True)\n",
      "/tmp/ipykernel_2433/1033285875.py:42: FutureWarning: The frame.append method is deprecated and will be removed from pandas in a future version. Use pandas.concat instead.\n",
      "  final=final.append(df,ignore_index=True)\n",
      "/tmp/ipykernel_2433/1033285875.py:42: FutureWarning: The frame.append method is deprecated and will be removed from pandas in a future version. Use pandas.concat instead.\n",
      "  final=final.append(df,ignore_index=True)\n",
      "/tmp/ipykernel_2433/1033285875.py:42: FutureWarning: The frame.append method is deprecated and will be removed from pandas in a future version. Use pandas.concat instead.\n",
      "  final=final.append(df,ignore_index=True)\n",
      "/tmp/ipykernel_2433/1033285875.py:42: FutureWarning: The frame.append method is deprecated and will be removed from pandas in a future version. Use pandas.concat instead.\n",
      "  final=final.append(df,ignore_index=True)\n",
      "/tmp/ipykernel_2433/1033285875.py:42: FutureWarning: The frame.append method is deprecated and will be removed from pandas in a future version. Use pandas.concat instead.\n",
      "  final=final.append(df,ignore_index=True)\n",
      "/tmp/ipykernel_2433/1033285875.py:42: FutureWarning: The frame.append method is deprecated and will be removed from pandas in a future version. Use pandas.concat instead.\n",
      "  final=final.append(df,ignore_index=True)\n",
      "/tmp/ipykernel_2433/1033285875.py:42: FutureWarning: The frame.append method is deprecated and will be removed from pandas in a future version. Use pandas.concat instead.\n",
      "  final=final.append(df,ignore_index=True)\n",
      "/tmp/ipykernel_2433/1033285875.py:42: FutureWarning: The frame.append method is deprecated and will be removed from pandas in a future version. Use pandas.concat instead.\n",
      "  final=final.append(df,ignore_index=True)\n",
      "/tmp/ipykernel_2433/1033285875.py:42: FutureWarning: The frame.append method is deprecated and will be removed from pandas in a future version. Use pandas.concat instead.\n",
      "  final=final.append(df,ignore_index=True)\n",
      "/tmp/ipykernel_2433/1033285875.py:42: FutureWarning: The frame.append method is deprecated and will be removed from pandas in a future version. Use pandas.concat instead.\n",
      "  final=final.append(df,ignore_index=True)\n",
      "/tmp/ipykernel_2433/1033285875.py:42: FutureWarning: The frame.append method is deprecated and will be removed from pandas in a future version. Use pandas.concat instead.\n",
      "  final=final.append(df,ignore_index=True)\n",
      "/tmp/ipykernel_2433/1033285875.py:42: FutureWarning: The frame.append method is deprecated and will be removed from pandas in a future version. Use pandas.concat instead.\n",
      "  final=final.append(df,ignore_index=True)\n",
      "/tmp/ipykernel_2433/1033285875.py:42: FutureWarning: The frame.append method is deprecated and will be removed from pandas in a future version. Use pandas.concat instead.\n",
      "  final=final.append(df,ignore_index=True)\n",
      "/tmp/ipykernel_2433/1033285875.py:42: FutureWarning: The frame.append method is deprecated and will be removed from pandas in a future version. Use pandas.concat instead.\n",
      "  final=final.append(df,ignore_index=True)\n",
      "/tmp/ipykernel_2433/1033285875.py:42: FutureWarning: The frame.append method is deprecated and will be removed from pandas in a future version. Use pandas.concat instead.\n",
      "  final=final.append(df,ignore_index=True)\n",
      "/tmp/ipykernel_2433/1033285875.py:42: FutureWarning: The frame.append method is deprecated and will be removed from pandas in a future version. Use pandas.concat instead.\n",
      "  final=final.append(df,ignore_index=True)\n",
      "/tmp/ipykernel_2433/1033285875.py:42: FutureWarning: The frame.append method is deprecated and will be removed from pandas in a future version. Use pandas.concat instead.\n",
      "  final=final.append(df,ignore_index=True)\n",
      "/tmp/ipykernel_2433/1033285875.py:42: FutureWarning: The frame.append method is deprecated and will be removed from pandas in a future version. Use pandas.concat instead.\n",
      "  final=final.append(df,ignore_index=True)\n",
      "/tmp/ipykernel_2433/1033285875.py:42: FutureWarning: The frame.append method is deprecated and will be removed from pandas in a future version. Use pandas.concat instead.\n",
      "  final=final.append(df,ignore_index=True)\n",
      "/tmp/ipykernel_2433/1033285875.py:42: FutureWarning: The frame.append method is deprecated and will be removed from pandas in a future version. Use pandas.concat instead.\n",
      "  final=final.append(df,ignore_index=True)\n",
      "/tmp/ipykernel_2433/1033285875.py:42: FutureWarning: The frame.append method is deprecated and will be removed from pandas in a future version. Use pandas.concat instead.\n",
      "  final=final.append(df,ignore_index=True)\n",
      "/tmp/ipykernel_2433/1033285875.py:42: FutureWarning: The frame.append method is deprecated and will be removed from pandas in a future version. Use pandas.concat instead.\n",
      "  final=final.append(df,ignore_index=True)\n",
      "/tmp/ipykernel_2433/1033285875.py:42: FutureWarning: The frame.append method is deprecated and will be removed from pandas in a future version. Use pandas.concat instead.\n",
      "  final=final.append(df,ignore_index=True)\n",
      "/tmp/ipykernel_2433/1033285875.py:42: FutureWarning: The frame.append method is deprecated and will be removed from pandas in a future version. Use pandas.concat instead.\n",
      "  final=final.append(df,ignore_index=True)\n",
      "/tmp/ipykernel_2433/1033285875.py:42: FutureWarning: The frame.append method is deprecated and will be removed from pandas in a future version. Use pandas.concat instead.\n",
      "  final=final.append(df,ignore_index=True)\n",
      "/tmp/ipykernel_2433/1033285875.py:42: FutureWarning: The frame.append method is deprecated and will be removed from pandas in a future version. Use pandas.concat instead.\n",
      "  final=final.append(df,ignore_index=True)\n",
      "/tmp/ipykernel_2433/1033285875.py:42: FutureWarning: The frame.append method is deprecated and will be removed from pandas in a future version. Use pandas.concat instead.\n",
      "  final=final.append(df,ignore_index=True)\n",
      "/tmp/ipykernel_2433/1033285875.py:42: FutureWarning: The frame.append method is deprecated and will be removed from pandas in a future version. Use pandas.concat instead.\n",
      "  final=final.append(df,ignore_index=True)\n",
      "/tmp/ipykernel_2433/1033285875.py:42: FutureWarning: The frame.append method is deprecated and will be removed from pandas in a future version. Use pandas.concat instead.\n",
      "  final=final.append(df,ignore_index=True)\n",
      "/tmp/ipykernel_2433/1033285875.py:42: FutureWarning: The frame.append method is deprecated and will be removed from pandas in a future version. Use pandas.concat instead.\n",
      "  final=final.append(df,ignore_index=True)\n",
      "/tmp/ipykernel_2433/1033285875.py:42: FutureWarning: The frame.append method is deprecated and will be removed from pandas in a future version. Use pandas.concat instead.\n",
      "  final=final.append(df,ignore_index=True)\n"
     ]
    }
   ],
   "source": [
    "final=pd.DataFrame()\n",
    "\n",
    "for j in range(73):\n",
    "    url='https://groww.in/mutual-funds/filter?q=&fundSize=&pageNo={}&sortBy=0'.format(j)\n",
    "    page=requests.get(url)\n",
    "    soup=BeautifulSoup(page.content,'html.parser')\n",
    " \n",
    "  #  fund containers\n",
    "    fund=soup.find_all('tr',class_=\"f22Card\")\n",
    "\n",
    "  #scraping all field from each section\n",
    "    name=[]\n",
    "    rating=[]\n",
    "    return_1yr=[]\n",
    "    return_3yr=[]\n",
    "    return_5yr=[]\n",
    "    risk_type=[]\n",
    "    category=[]\n",
    "    url=[]\n",
    "\n",
    "    for i in fund:\n",
    "        name.append(i.find('div',class_=\"fs14 clrText fw500 f22LH34 f22Mb4 truncate\").text.strip())\n",
    "        return_1yr.append(i.find_all('div',class_=\"fs14 clrText fw500 center-align f22Mb4\")[0].text.strip())\n",
    "        return_3yr.append(i.find_all('div',class_=\"fs14 clrText fw500 center-align f22Mb4\")[1].text.strip())\n",
    "        return_5yr.append(i.find_all('div',class_=\"fs14 clrText fw500 center-align f22Mb4\")[2].text.strip())\n",
    "        risk_type.append(i.find('div',class_=\"fs12 fw500 clrSubText f22Ls2\").text.strip())\n",
    "        category.append(i.find('div',class_=\"fs12 fw500clrSubText f22Ls2\").text.strip())\n",
    "        url.append('https://groww.in'+i.a['href'])\n",
    "        try: \n",
    "              rating.append(i.find('div',class_=\"fs12 fw500 clrSubText f22Ls2 valign-wrapper\").text.strip())\n",
    "        except:\n",
    "              rating.append(np.nan)\n",
    "\n",
    "    d={'Mutual Fund Name':name,'fund_rating':rating,'return_1yr':return_1yr,\n",
    "      'return_3yr':return_3yr,'return_5yr':return_5yr,\n",
    "      'risk_type':risk_type,'category':category,\n",
    "      'url':url} \n",
    "    \n",
    "    df=pd.DataFrame(d)\n",
    "\n",
    "    #combining dataframes from each page\n",
    "    final=final.append(df,ignore_index=True)  "
   ]
  },
  {
   "cell_type": "code",
   "execution_count": 55,
   "id": "6d800489",
   "metadata": {
    "execution": {
     "iopub.execute_input": "2022-09-07T19:21:12.161203Z",
     "iopub.status.busy": "2022-09-07T19:21:12.160502Z",
     "iopub.status.idle": "2022-09-07T19:21:12.168031Z",
     "shell.execute_reply": "2022-09-07T19:21:12.166652Z"
    },
    "papermill": {
     "duration": 0.022425,
     "end_time": "2022-09-07T19:21:12.170322",
     "exception": false,
     "start_time": "2022-09-07T19:21:12.147897",
     "status": "completed"
    },
    "tags": []
   },
   "outputs": [
    {
     "data": {
      "text/plain": [
       "(1095, 8)"
      ]
     },
     "execution_count": 55,
     "metadata": {},
     "output_type": "execute_result"
    }
   ],
   "source": [
    "final.shape"
   ]
  },
  {
   "cell_type": "code",
   "execution_count": 56,
   "id": "c44e21cf",
   "metadata": {
    "execution": {
     "iopub.execute_input": "2022-09-07T19:21:12.194457Z",
     "iopub.status.busy": "2022-09-07T19:21:12.193443Z",
     "iopub.status.idle": "2022-09-07T19:21:12.217534Z",
     "shell.execute_reply": "2022-09-07T19:21:12.216127Z"
    },
    "papermill": {
     "duration": 0.039184,
     "end_time": "2022-09-07T19:21:12.220375",
     "exception": false,
     "start_time": "2022-09-07T19:21:12.181191",
     "status": "completed"
    },
    "tags": []
   },
   "outputs": [
    {
     "name": "stdout",
     "output_type": "stream",
     "text": [
      "<class 'pandas.core.frame.DataFrame'>\n",
      "RangeIndex: 1095 entries, 0 to 1094\n",
      "Data columns (total 8 columns):\n",
      " #   Column            Non-Null Count  Dtype \n",
      "---  ------            --------------  ----- \n",
      " 0   Mutual Fund Name  1095 non-null   object\n",
      " 1   fund_rating       759 non-null    object\n",
      " 2   return_1yr        1095 non-null   object\n",
      " 3   return_3yr        1095 non-null   object\n",
      " 4   return_5yr        1095 non-null   object\n",
      " 5   risk_type         1095 non-null   object\n",
      " 6   category          1095 non-null   object\n",
      " 7   url               1095 non-null   object\n",
      "dtypes: object(8)\n",
      "memory usage: 68.6+ KB\n"
     ]
    }
   ],
   "source": [
    "final.info()"
   ]
  },
  {
   "cell_type": "code",
   "execution_count": 57,
   "id": "9e8d201c",
   "metadata": {
    "execution": {
     "iopub.execute_input": "2022-09-07T19:21:12.245667Z",
     "iopub.status.busy": "2022-09-07T19:21:12.245245Z",
     "iopub.status.idle": "2022-09-07T19:21:12.260989Z",
     "shell.execute_reply": "2022-09-07T19:21:12.259825Z"
    },
    "papermill": {
     "duration": 0.030734,
     "end_time": "2022-09-07T19:21:12.263362",
     "exception": false,
     "start_time": "2022-09-07T19:21:12.232628",
     "status": "completed"
    },
    "tags": []
   },
   "outputs": [
    {
     "data": {
      "text/html": [
       "<div>\n",
       "<style scoped>\n",
       "    .dataframe tbody tr th:only-of-type {\n",
       "        vertical-align: middle;\n",
       "    }\n",
       "\n",
       "    .dataframe tbody tr th {\n",
       "        vertical-align: top;\n",
       "    }\n",
       "\n",
       "    .dataframe thead th {\n",
       "        text-align: right;\n",
       "    }\n",
       "</style>\n",
       "<table border=\"1\" class=\"dataframe\">\n",
       "  <thead>\n",
       "    <tr style=\"text-align: right;\">\n",
       "      <th></th>\n",
       "      <th>Mutual Fund Name</th>\n",
       "      <th>fund_rating</th>\n",
       "      <th>return_1yr</th>\n",
       "      <th>return_3yr</th>\n",
       "      <th>return_5yr</th>\n",
       "      <th>risk_type</th>\n",
       "      <th>category</th>\n",
       "      <th>url</th>\n",
       "    </tr>\n",
       "  </thead>\n",
       "  <tbody>\n",
       "    <tr>\n",
       "      <th>975</th>\n",
       "      <td>Principal Small Cap Fund Direct Growth</td>\n",
       "      <td>3</td>\n",
       "      <td>78.29%</td>\n",
       "      <td>NA%</td>\n",
       "      <td>NA%</td>\n",
       "      <td>Moderately High Risk</td>\n",
       "      <td>Equity</td>\n",
       "      <td>https://groww.in/mutual-funds/principal-small-...</td>\n",
       "    </tr>\n",
       "    <tr>\n",
       "      <th>1009</th>\n",
       "      <td>Motilal Oswal Asset Allocation Passive FoF Agg...</td>\n",
       "      <td>NaN</td>\n",
       "      <td>3.01%</td>\n",
       "      <td>NA%</td>\n",
       "      <td>NA%</td>\n",
       "      <td>Very High Risk</td>\n",
       "      <td>Other</td>\n",
       "      <td>https://groww.in/mutual-funds/motilal-oswal-as...</td>\n",
       "    </tr>\n",
       "    <tr>\n",
       "      <th>122</th>\n",
       "      <td>SBI Large &amp; Midcap Fund Direct Plan Growth</td>\n",
       "      <td>5</td>\n",
       "      <td>5.29%</td>\n",
       "      <td>19.20%</td>\n",
       "      <td>11.91%</td>\n",
       "      <td>Very High Risk</td>\n",
       "      <td>Equity</td>\n",
       "      <td>https://groww.in/mutual-funds/sbi-magnum-multi...</td>\n",
       "    </tr>\n",
       "  </tbody>\n",
       "</table>\n",
       "</div>"
      ],
      "text/plain": [
       "                                       Mutual Fund Name fund_rating  \\\n",
       "975              Principal Small Cap Fund Direct Growth           3   \n",
       "1009  Motilal Oswal Asset Allocation Passive FoF Agg...         NaN   \n",
       "122          SBI Large & Midcap Fund Direct Plan Growth           5   \n",
       "\n",
       "     return_1yr return_3yr return_5yr             risk_type category  \\\n",
       "975      78.29%        NA%        NA%  Moderately High Risk   Equity   \n",
       "1009      3.01%        NA%        NA%        Very High Risk    Other   \n",
       "122       5.29%     19.20%     11.91%        Very High Risk   Equity   \n",
       "\n",
       "                                                    url  \n",
       "975   https://groww.in/mutual-funds/principal-small-...  \n",
       "1009  https://groww.in/mutual-funds/motilal-oswal-as...  \n",
       "122   https://groww.in/mutual-funds/sbi-magnum-multi...  "
      ]
     },
     "execution_count": 57,
     "metadata": {},
     "output_type": "execute_result"
    }
   ],
   "source": [
    "final.sample(3)"
   ]
  },
  {
   "cell_type": "code",
   "execution_count": 58,
   "id": "3c8fedab",
   "metadata": {
    "execution": {
     "iopub.execute_input": "2022-09-07T19:21:12.287223Z",
     "iopub.status.busy": "2022-09-07T19:21:12.286816Z",
     "iopub.status.idle": "2022-09-07T19:21:12.296809Z",
     "shell.execute_reply": "2022-09-07T19:21:12.295589Z"
    },
    "papermill": {
     "duration": 0.024723,
     "end_time": "2022-09-07T19:21:12.299235",
     "exception": false,
     "start_time": "2022-09-07T19:21:12.274512",
     "status": "completed"
    },
    "tags": []
   },
   "outputs": [],
   "source": [
    "final['return_1yr']=final['return_1yr'].apply(lambda x:x.replace(\"%\",''))\n",
    "final['return_3yr']=final['return_3yr'].apply(lambda x:x.replace(\"%\",''))\n",
    "final['return_5yr']=final['return_5yr'].apply(lambda x:x.replace(\"%\",''))"
   ]
  },
  {
   "cell_type": "code",
   "execution_count": 59,
   "id": "42b87044",
   "metadata": {
    "execution": {
     "iopub.execute_input": "2022-09-07T19:21:12.323552Z",
     "iopub.status.busy": "2022-09-07T19:21:12.323120Z",
     "iopub.status.idle": "2022-09-07T19:21:12.330502Z",
     "shell.execute_reply": "2022-09-07T19:21:12.329435Z"
    },
    "papermill": {
     "duration": 0.021979,
     "end_time": "2022-09-07T19:21:12.332777",
     "exception": false,
     "start_time": "2022-09-07T19:21:12.310798",
     "status": "completed"
    },
    "tags": []
   },
   "outputs": [],
   "source": [
    "final['AMC_name']=final['Mutual Fund Name'].apply(lambda x:x.split()[0])"
   ]
  },
  {
   "cell_type": "code",
   "execution_count": 60,
   "id": "8a6b031d",
   "metadata": {
    "execution": {
     "iopub.execute_input": "2022-09-07T19:21:12.356712Z",
     "iopub.status.busy": "2022-09-07T19:21:12.356326Z",
     "iopub.status.idle": "2022-09-07T19:21:12.370330Z",
     "shell.execute_reply": "2022-09-07T19:21:12.368510Z"
    },
    "papermill": {
     "duration": 0.028811,
     "end_time": "2022-09-07T19:21:12.372693",
     "exception": false,
     "start_time": "2022-09-07T19:21:12.343882",
     "status": "completed"
    },
    "tags": []
   },
   "outputs": [
    {
     "name": "stdout",
     "output_type": "stream",
     "text": [
      "<class 'pandas.core.frame.DataFrame'>\n",
      "RangeIndex: 1095 entries, 0 to 1094\n",
      "Data columns (total 9 columns):\n",
      " #   Column            Non-Null Count  Dtype \n",
      "---  ------            --------------  ----- \n",
      " 0   Mutual Fund Name  1095 non-null   object\n",
      " 1   fund_rating       759 non-null    object\n",
      " 2   return_1yr        1095 non-null   object\n",
      " 3   return_3yr        1095 non-null   object\n",
      " 4   return_5yr        1095 non-null   object\n",
      " 5   risk_type         1095 non-null   object\n",
      " 6   category          1095 non-null   object\n",
      " 7   url               1095 non-null   object\n",
      " 8   AMC_name          1095 non-null   object\n",
      "dtypes: object(9)\n",
      "memory usage: 77.1+ KB\n"
     ]
    }
   ],
   "source": [
    "final.info()"
   ]
  },
  {
   "cell_type": "code",
   "execution_count": 61,
   "id": "aeb96572",
   "metadata": {
    "execution": {
     "iopub.execute_input": "2022-09-07T19:21:12.396826Z",
     "iopub.status.busy": "2022-09-07T19:21:12.396435Z",
     "iopub.status.idle": "2022-09-07T19:21:12.402508Z",
     "shell.execute_reply": "2022-09-07T19:21:12.401593Z"
    },
    "papermill": {
     "duration": 0.021005,
     "end_time": "2022-09-07T19:21:12.404908",
     "exception": false,
     "start_time": "2022-09-07T19:21:12.383903",
     "status": "completed"
    },
    "tags": []
   },
   "outputs": [],
   "source": [
    "final['fund_rating'] = pd.to_numeric(final['fund_rating'], errors='coerce')"
   ]
  },
  {
   "cell_type": "code",
   "execution_count": 62,
   "id": "89dc5fc3",
   "metadata": {
    "execution": {
     "iopub.execute_input": "2022-09-07T19:21:12.429515Z",
     "iopub.status.busy": "2022-09-07T19:21:12.428728Z",
     "iopub.status.idle": "2022-09-07T19:21:12.442644Z",
     "shell.execute_reply": "2022-09-07T19:21:12.441322Z"
    },
    "papermill": {
     "duration": 0.029043,
     "end_time": "2022-09-07T19:21:12.445405",
     "exception": false,
     "start_time": "2022-09-07T19:21:12.416362",
     "status": "completed"
    },
    "tags": []
   },
   "outputs": [
    {
     "name": "stdout",
     "output_type": "stream",
     "text": [
      "<class 'pandas.core.frame.DataFrame'>\n",
      "RangeIndex: 1095 entries, 0 to 1094\n",
      "Data columns (total 9 columns):\n",
      " #   Column            Non-Null Count  Dtype  \n",
      "---  ------            --------------  -----  \n",
      " 0   Mutual Fund Name  1095 non-null   object \n",
      " 1   fund_rating       759 non-null    float64\n",
      " 2   return_1yr        1095 non-null   object \n",
      " 3   return_3yr        1095 non-null   object \n",
      " 4   return_5yr        1095 non-null   object \n",
      " 5   risk_type         1095 non-null   object \n",
      " 6   category          1095 non-null   object \n",
      " 7   url               1095 non-null   object \n",
      " 8   AMC_name          1095 non-null   object \n",
      "dtypes: float64(1), object(8)\n",
      "memory usage: 77.1+ KB\n"
     ]
    }
   ],
   "source": [
    "final.info()"
   ]
  },
  {
   "cell_type": "code",
   "execution_count": 63,
   "id": "32d97b61",
   "metadata": {
    "execution": {
     "iopub.execute_input": "2022-09-07T19:21:12.470764Z",
     "iopub.status.busy": "2022-09-07T19:21:12.469716Z",
     "iopub.status.idle": "2022-09-07T19:21:12.478698Z",
     "shell.execute_reply": "2022-09-07T19:21:12.477898Z"
    },
    "papermill": {
     "duration": 0.023199,
     "end_time": "2022-09-07T19:21:12.480760",
     "exception": false,
     "start_time": "2022-09-07T19:21:12.457561",
     "status": "completed"
    },
    "tags": []
   },
   "outputs": [
    {
     "data": {
      "text/plain": [
       "0       5.0\n",
       "1       5.0\n",
       "2       NaN\n",
       "3       5.0\n",
       "4       NaN\n",
       "       ... \n",
       "1090    NaN\n",
       "1091    NaN\n",
       "1092    NaN\n",
       "1093    NaN\n",
       "1094    NaN\n",
       "Name: fund_rating, Length: 1095, dtype: float64"
      ]
     },
     "execution_count": 63,
     "metadata": {},
     "output_type": "execute_result"
    }
   ],
   "source": [
    "final['fund_rating'].fillna(np.nan)"
   ]
  },
  {
   "cell_type": "code",
   "execution_count": 64,
   "id": "7f4655f9",
   "metadata": {
    "execution": {
     "iopub.execute_input": "2022-09-07T19:21:12.504846Z",
     "iopub.status.busy": "2022-09-07T19:21:12.504465Z",
     "iopub.status.idle": "2022-09-07T19:21:12.513483Z",
     "shell.execute_reply": "2022-09-07T19:21:12.512322Z"
    },
    "papermill": {
     "duration": 0.02376,
     "end_time": "2022-09-07T19:21:12.515776",
     "exception": false,
     "start_time": "2022-09-07T19:21:12.492016",
     "status": "completed"
    },
    "tags": []
   },
   "outputs": [],
   "source": [
    "for col in ['return_1yr','return_3yr','return_5yr']:\n",
    "    final[col] = pd.to_numeric(final[col], errors='coerce')"
   ]
  },
  {
   "cell_type": "code",
   "execution_count": 65,
   "id": "5833325d",
   "metadata": {
    "execution": {
     "iopub.execute_input": "2022-09-07T19:21:12.542736Z",
     "iopub.status.busy": "2022-09-07T19:21:12.542380Z",
     "iopub.status.idle": "2022-09-07T19:21:12.556753Z",
     "shell.execute_reply": "2022-09-07T19:21:12.555958Z"
    },
    "papermill": {
     "duration": 0.031243,
     "end_time": "2022-09-07T19:21:12.559404",
     "exception": false,
     "start_time": "2022-09-07T19:21:12.528161",
     "status": "completed"
    },
    "tags": []
   },
   "outputs": [
    {
     "name": "stdout",
     "output_type": "stream",
     "text": [
      "<class 'pandas.core.frame.DataFrame'>\n",
      "RangeIndex: 1095 entries, 0 to 1094\n",
      "Data columns (total 9 columns):\n",
      " #   Column            Non-Null Count  Dtype  \n",
      "---  ------            --------------  -----  \n",
      " 0   Mutual Fund Name  1095 non-null   object \n",
      " 1   fund_rating       759 non-null    float64\n",
      " 2   return_1yr        977 non-null    float64\n",
      " 3   return_3yr        852 non-null    float64\n",
      " 4   return_5yr        697 non-null    float64\n",
      " 5   risk_type         1095 non-null   object \n",
      " 6   category          1095 non-null   object \n",
      " 7   url               1095 non-null   object \n",
      " 8   AMC_name          1095 non-null   object \n",
      "dtypes: float64(4), object(5)\n",
      "memory usage: 77.1+ KB\n"
     ]
    }
   ],
   "source": [
    "final.info()"
   ]
  },
  {
   "cell_type": "code",
   "execution_count": 66,
   "id": "05a13847",
   "metadata": {
    "execution": {
     "iopub.execute_input": "2022-09-07T19:21:12.583294Z",
     "iopub.status.busy": "2022-09-07T19:21:12.582893Z",
     "iopub.status.idle": "2022-09-07T19:21:12.587048Z",
     "shell.execute_reply": "2022-09-07T19:21:12.586295Z"
    },
    "papermill": {
     "duration": 0.018828,
     "end_time": "2022-09-07T19:21:12.589148",
     "exception": false,
     "start_time": "2022-09-07T19:21:12.570320",
     "status": "completed"
    },
    "tags": []
   },
   "outputs": [],
   "source": [
    "cols=final.columns.to_list()"
   ]
  },
  {
   "cell_type": "code",
   "execution_count": 67,
   "id": "bcfa36aa",
   "metadata": {
    "execution": {
     "iopub.execute_input": "2022-09-07T19:21:12.613691Z",
     "iopub.status.busy": "2022-09-07T19:21:12.613320Z",
     "iopub.status.idle": "2022-09-07T19:21:12.617557Z",
     "shell.execute_reply": "2022-09-07T19:21:12.616772Z"
    },
    "papermill": {
     "duration": 0.019532,
     "end_time": "2022-09-07T19:21:12.620125",
     "exception": false,
     "start_time": "2022-09-07T19:21:12.600593",
     "status": "completed"
    },
    "tags": []
   },
   "outputs": [
    {
     "name": "stdout",
     "output_type": "stream",
     "text": [
      "['Mutual Fund Name', 'fund_rating', 'return_1yr', 'return_3yr', 'return_5yr', 'risk_type', 'category', 'url', 'AMC_name']\n"
     ]
    }
   ],
   "source": [
    "print(cols)"
   ]
  },
  {
   "cell_type": "code",
   "execution_count": 68,
   "id": "2d1e81fa",
   "metadata": {
    "execution": {
     "iopub.execute_input": "2022-09-07T19:21:12.645137Z",
     "iopub.status.busy": "2022-09-07T19:21:12.644773Z",
     "iopub.status.idle": "2022-09-07T19:21:12.648905Z",
     "shell.execute_reply": "2022-09-07T19:21:12.648059Z"
    },
    "papermill": {
     "duration": 0.019063,
     "end_time": "2022-09-07T19:21:12.650924",
     "exception": false,
     "start_time": "2022-09-07T19:21:12.631861",
     "status": "completed"
    },
    "tags": []
   },
   "outputs": [],
   "source": [
    "cols=['AMC_name','Mutual Fund Name','category','risk_type','fund_rating','return_1yr', 'return_3yr', 'return_5yr']"
   ]
  },
  {
   "cell_type": "code",
   "execution_count": 69,
   "id": "2dae3179",
   "metadata": {
    "execution": {
     "iopub.execute_input": "2022-09-07T19:21:12.675939Z",
     "iopub.status.busy": "2022-09-07T19:21:12.675334Z",
     "iopub.status.idle": "2022-09-07T19:21:12.683046Z",
     "shell.execute_reply": "2022-09-07T19:21:12.682188Z"
    },
    "papermill": {
     "duration": 0.022877,
     "end_time": "2022-09-07T19:21:12.685392",
     "exception": false,
     "start_time": "2022-09-07T19:21:12.662515",
     "status": "completed"
    },
    "tags": []
   },
   "outputs": [],
   "source": [
    "final=final[cols]"
   ]
  },
  {
   "cell_type": "code",
   "execution_count": 70,
   "id": "9b1af7bc",
   "metadata": {
    "execution": {
     "iopub.execute_input": "2022-09-07T19:21:12.710485Z",
     "iopub.status.busy": "2022-09-07T19:21:12.709862Z",
     "iopub.status.idle": "2022-09-07T19:21:12.716793Z",
     "shell.execute_reply": "2022-09-07T19:21:12.715768Z"
    },
    "papermill": {
     "duration": 0.02197,
     "end_time": "2022-09-07T19:21:12.718894",
     "exception": false,
     "start_time": "2022-09-07T19:21:12.696924",
     "status": "completed"
    },
    "tags": []
   },
   "outputs": [
    {
     "data": {
      "text/plain": [
       "array(['Very High Risk', 'High Risk', 'Moderately High Risk',\n",
       "       'Moderate Risk', 'Low to Moderate Risk', 'Low Risk',\n",
       "       'Moderately Low Risk'], dtype=object)"
      ]
     },
     "execution_count": 70,
     "metadata": {},
     "output_type": "execute_result"
    }
   ],
   "source": [
    "final['risk_type'].unique()"
   ]
  },
  {
   "cell_type": "code",
   "execution_count": 71,
   "id": "39c34a42",
   "metadata": {
    "execution": {
     "iopub.execute_input": "2022-09-07T19:21:12.745055Z",
     "iopub.status.busy": "2022-09-07T19:21:12.743893Z",
     "iopub.status.idle": "2022-09-07T19:21:12.758080Z",
     "shell.execute_reply": "2022-09-07T19:21:12.756957Z"
    },
    "papermill": {
     "duration": 0.030053,
     "end_time": "2022-09-07T19:21:12.760722",
     "exception": false,
     "start_time": "2022-09-07T19:21:12.730669",
     "status": "completed"
    },
    "tags": []
   },
   "outputs": [],
   "source": [
    "# final.to_csv('mutual_funds_india.csv')\n",
    "from selenium import webdriver\n",
    "\n",
    "browser = webdriver.Edge()\n",
    "browser.get(final['url'][0])"
   ]
  }
 ],
 "metadata": {
  "kernelspec": {
   "display_name": "mutualfundenv",
   "language": "python",
   "name": "python3"
  },
  "language_info": {
   "codemirror_mode": {
    "name": "ipython",
    "version": 3
   },
   "file_extension": ".py",
   "mimetype": "text/x-python",
   "name": "python",
   "nbconvert_exporter": "python",
   "pygments_lexer": "ipython3",
   "version": "3.10.9"
  },
  "papermill": {
   "default_parameters": {},
   "duration": 69.760751,
   "end_time": "2022-09-07T19:21:13.493788",
   "environment_variables": {},
   "exception": null,
   "input_path": "__notebook__.ipynb",
   "output_path": "__notebook__.ipynb",
   "parameters": {},
   "start_time": "2022-09-07T19:20:03.733037",
   "version": "2.3.4"
  },
  "vscode": {
   "interpreter": {
    "hash": "b62ae7a52a52dbde505833f5ee188da33a8bf2511b1d345d61427a0318b83a12"
   }
  }
 },
 "nbformat": 4,
 "nbformat_minor": 5
}
