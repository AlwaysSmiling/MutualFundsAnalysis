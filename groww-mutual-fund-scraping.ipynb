{
 "cells": [
  {
   "cell_type": "code",
   "execution_count": 1,
   "id": "92d1cf8c",
   "metadata": {
    "_cell_guid": "b1076dfc-b9ad-4769-8c92-a6c4dae69d19",
    "_uuid": "8f2839f25d086af736a60e9eeb907d3b93b6e0e5",
    "execution": {
     "iopub.execute_input": "2022-09-07T19:20:12.859081Z",
     "iopub.status.busy": "2022-09-07T19:20:12.858472Z",
     "iopub.status.idle": "2022-09-07T19:20:12.873907Z",
     "shell.execute_reply": "2022-09-07T19:20:12.872819Z"
    },
    "papermill": {
     "duration": 0.028364,
     "end_time": "2022-09-07T19:20:12.876457",
     "exception": false,
     "start_time": "2022-09-07T19:20:12.848093",
     "status": "completed"
    },
    "tags": []
   },
   "outputs": [],
   "source": [
    "import numpy as np # linear algebra\n",
    "import pandas as pd # data processing, CSV file I/O (e.g. pd.read_csv)"
   ]
  },
  {
   "cell_type": "code",
   "execution_count": 2,
   "id": "60cb5531",
   "metadata": {
    "execution": {
     "iopub.execute_input": "2022-09-07T19:20:12.892496Z",
     "iopub.status.busy": "2022-09-07T19:20:12.892011Z",
     "iopub.status.idle": "2022-09-07T19:20:13.108142Z",
     "shell.execute_reply": "2022-09-07T19:20:13.106932Z"
    },
    "papermill": {
     "duration": 0.227369,
     "end_time": "2022-09-07T19:20:13.110885",
     "exception": false,
     "start_time": "2022-09-07T19:20:12.883516",
     "status": "completed"
    },
    "tags": []
   },
   "outputs": [],
   "source": [
    "from bs4 import BeautifulSoup\n",
    "import requests "
   ]
  },
  {
   "cell_type": "markdown",
   "id": "c1bbee15",
   "metadata": {
    "papermill": {
     "duration": 0.010649,
     "end_time": "2022-09-07T19:20:14.175733",
     "exception": false,
     "start_time": "2022-09-07T19:20:14.165084",
     "status": "completed"
    },
    "tags": []
   },
   "source": [
    "# Compiling mutual fund data from all pages of Groww Investment platform"
   ]
  },
  {
   "cell_type": "code",
   "execution_count": 6,
   "id": "ab367f5b",
   "metadata": {},
   "outputs": [
    {
     "name": "stdout",
     "output_type": "stream",
     "text": [
      "<class 'pandas.core.frame.DataFrame'>\n",
      "Index: 0 entries\n",
      "Data columns (total 7 columns):\n",
      " #   Column            Non-Null Count  Dtype \n",
      "---  ------            --------------  ----- \n",
      " 0   Mutual Fund Name  0 non-null      object\n",
      " 1   fund_rating       0 non-null      object\n",
      " 2   return_1yr        0 non-null      object\n",
      " 3   return_3yr        0 non-null      object\n",
      " 4   return_5yr        0 non-null      object\n",
      " 5   risk_type         0 non-null      object\n",
      " 6   category          0 non-null      object\n",
      "dtypes: object(7)\n",
      "memory usage: 0.0+ bytes\n"
     ]
    }
   ],
   "source": [
    "final=pd.DataFrame(columns=['Mutual Fund Name','fund_rating','return_1yr',\n",
    "      'return_3yr','return_5yr',\n",
    "      'risk_type','category'])\n",
    "\n",
    "final.info()"
   ]
  },
  {
   "cell_type": "code",
   "execution_count": 9,
   "id": "fb8f70c1",
   "metadata": {
    "execution": {
     "iopub.execute_input": "2022-09-07T19:20:14.201490Z",
     "iopub.status.busy": "2022-09-07T19:20:14.200723Z",
     "iopub.status.idle": "2022-09-07T19:21:12.133802Z",
     "shell.execute_reply": "2022-09-07T19:21:12.132795Z"
    },
    "papermill": {
     "duration": 57.949747,
     "end_time": "2022-09-07T19:21:12.136455",
     "exception": false,
     "start_time": "2022-09-07T19:20:14.186708",
     "status": "completed"
    },
    "tags": []
   },
   "outputs": [],
   "source": [
    "for j in range(73):\n",
    "    url='https://groww.in/mutual-funds/filter?q=&fundSize=&pageNo={}&sortBy=0'.format(j)\n",
    "    page=requests.get(url)\n",
    "    soup=BeautifulSoup(page.content,'html.parser')\n",
    " \n",
    "  #  fund containers\n",
    "    fund=soup.find_all('tr',class_=\"f22Card\")\n",
    "\n",
    "  #scraping all field from each section\n",
    "    name=[]\n",
    "    rating=[]\n",
    "    return_1yr=[]\n",
    "    return_3yr=[]\n",
    "    return_5yr=[]\n",
    "    risk_type=[]\n",
    "    category=[]\n",
    "    \n",
    "\n",
    "    for i in fund:\n",
    "        name.append(i.find('div',class_=\"fs14 clrText fw500 f22LH34 f22Mb4 truncate\").text.strip())\n",
    "        return_1yr.append(i.find_all('div',class_=\"fs14 clrText fw500 center-align f22Mb4\")[0].text.strip())\n",
    "        return_3yr.append(i.find_all('div',class_=\"fs14 clrText fw500 center-align f22Mb4\")[1].text.strip())\n",
    "        return_5yr.append(i.find_all('div',class_=\"fs14 clrText fw500 center-align f22Mb4\")[2].text.strip())\n",
    "        risk_type.append(i.find('div',class_=\"fs12 fw500 clrSubText f22Ls2\").text.strip())\n",
    "        category.append(i.find('div',class_=\"fs12 fw500clrSubText f22Ls2\").text.strip())\n",
    "        try: \n",
    "              rating.append(i.find('div',class_=\"fs12 fw500 clrSubText f22Ls2 valign-wrapper\").text.strip())\n",
    "        except:\n",
    "              rating.append(np.nan)\n",
    "\n",
    "    d={'Mutual Fund Name':name,'fund_rating':rating,'return_1yr':return_1yr,\n",
    "      'return_3yr':return_3yr,'return_5yr':return_5yr,\n",
    "      'risk_type':risk_type,'category':category} \n",
    "    \n",
    "    df=pd.DataFrame(d)\n",
    "\n",
    "    #combining dataframes from each page\n",
    "    final = pd.concat([final,df],ignore_index=True)  "
   ]
  },
  {
   "cell_type": "code",
   "execution_count": 12,
   "id": "bd444cfa",
   "metadata": {},
   "outputs": [],
   "source": [
    "final.to_parquet('mutual_funds.gzip', compression='gzip')"
   ]
  },
  {
   "attachments": {},
   "cell_type": "markdown",
   "id": "ad265715",
   "metadata": {},
   "source": [
    "# Get Historical Data"
   ]
  },
  {
   "cell_type": "code",
   "execution_count": 23,
   "id": "54a2284a",
   "metadata": {},
   "outputs": [],
   "source": [
    "daterange = pd.date_range(start=\"2020-04-30\", end=\"2023-04-30\", freq='B').strftime('%d-%b-%Y').tolist() \n"
   ]
  },
  {
   "cell_type": "code",
   "execution_count": null,
   "id": "5208b458",
   "metadata": {},
   "outputs": [],
   "source": [
    "from IPython.display import clear_output\n",
    "from io import StringIO\n",
    "final = pd.DataFrame(columns=['Scheme Code','Scheme Name','ISIN Div Payout/ISIN Growth','ISIN Div Reinvestment','Net Asset Value','Repurchase Price','Sale Price','Date'])\n",
    "\n",
    "for date in daterange:\n",
    "    clear_output(wait=True)\n",
    "    hurl = f'https://portal.amfiindia.com/DownloadNAVHistoryReport_Po.aspx?tp=1&frmdt={date}'\n",
    "    data = requests.get(hurl)\n",
    "    file1 = []\n",
    "    for line in data.text.split('\\n'):\n",
    "        if line.find(';')!=-1: file1.append(line)\n",
    "        else: continue \n",
    "    ssvfile = '\\n'.join(file1)\n",
    "    df = pd.read_csv(StringIO(ssvfile), sep=\";\")\n",
    "    final = pd.concat([final, df], ignore_index=True)\n",
    "    print(date)\n",
    "    "
   ]
  }
 ],
 "metadata": {
  "kernelspec": {
   "display_name": "mutualfundenv",
   "language": "python",
   "name": "python3"
  },
  "language_info": {
   "codemirror_mode": {
    "name": "ipython",
    "version": 3
   },
   "file_extension": ".py",
   "mimetype": "text/x-python",
   "name": "python",
   "nbconvert_exporter": "python",
   "pygments_lexer": "ipython3",
   "version": "3.10.9"
  },
  "papermill": {
   "default_parameters": {},
   "duration": 69.760751,
   "end_time": "2022-09-07T19:21:13.493788",
   "environment_variables": {},
   "exception": null,
   "input_path": "__notebook__.ipynb",
   "output_path": "__notebook__.ipynb",
   "parameters": {},
   "start_time": "2022-09-07T19:20:03.733037",
   "version": "2.3.4"
  },
  "vscode": {
   "interpreter": {
    "hash": "b62ae7a52a52dbde505833f5ee188da33a8bf2511b1d345d61427a0318b83a12"
   }
  }
 },
 "nbformat": 4,
 "nbformat_minor": 5
}
