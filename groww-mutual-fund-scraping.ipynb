{
 "cells": [
  {
   "cell_type": "code",
   "execution_count": 1,
   "id": "92d1cf8c",
   "metadata": {
    "_cell_guid": "b1076dfc-b9ad-4769-8c92-a6c4dae69d19",
    "_uuid": "8f2839f25d086af736a60e9eeb907d3b93b6e0e5",
    "execution": {
     "iopub.execute_input": "2022-09-07T19:20:12.859081Z",
     "iopub.status.busy": "2022-09-07T19:20:12.858472Z",
     "iopub.status.idle": "2022-09-07T19:20:12.873907Z",
     "shell.execute_reply": "2022-09-07T19:20:12.872819Z"
    },
    "papermill": {
     "duration": 0.028364,
     "end_time": "2022-09-07T19:20:12.876457",
     "exception": false,
     "start_time": "2022-09-07T19:20:12.848093",
     "status": "completed"
    },
    "tags": []
   },
   "outputs": [],
   "source": [
    "import numpy as np # linear algebra\n",
    "import pandas as pd # data processing, CSV file I/O (e.g. pd.read_csv)"
   ]
  },
  {
   "cell_type": "code",
   "execution_count": 2,
   "id": "60cb5531",
   "metadata": {
    "execution": {
     "iopub.execute_input": "2022-09-07T19:20:12.892496Z",
     "iopub.status.busy": "2022-09-07T19:20:12.892011Z",
     "iopub.status.idle": "2022-09-07T19:20:13.108142Z",
     "shell.execute_reply": "2022-09-07T19:20:13.106932Z"
    },
    "papermill": {
     "duration": 0.227369,
     "end_time": "2022-09-07T19:20:13.110885",
     "exception": false,
     "start_time": "2022-09-07T19:20:12.883516",
     "status": "completed"
    },
    "tags": []
   },
   "outputs": [],
   "source": [
    "from bs4 import BeautifulSoup\n",
    "import requests "
   ]
  },
  {
   "cell_type": "code",
   "execution_count": 3,
   "id": "fad1ba1b",
   "metadata": {
    "execution": {
     "iopub.execute_input": "2022-09-07T19:20:13.126177Z",
     "iopub.status.busy": "2022-09-07T19:20:13.125744Z",
     "iopub.status.idle": "2022-09-07T19:20:13.868866Z",
     "shell.execute_reply": "2022-09-07T19:20:13.867670Z"
    },
    "papermill": {
     "duration": 0.753958,
     "end_time": "2022-09-07T19:20:13.871694",
     "exception": false,
     "start_time": "2022-09-07T19:20:13.117736",
     "status": "completed"
    },
    "tags": []
   },
   "outputs": [
    {
     "data": {
      "text/plain": [
       "<Response [200]>"
      ]
     },
     "execution_count": 3,
     "metadata": {},
     "output_type": "execute_result"
    }
   ],
   "source": [
    "url='https://groww.in/mutual-funds/filter?q=&fundSize=&pageNo=0&sortBy=0'\n",
    "page=requests.get(url)\n",
    "page"
   ]
  },
  {
   "cell_type": "code",
   "execution_count": 4,
   "id": "ad5c98a9",
   "metadata": {
    "execution": {
     "iopub.execute_input": "2022-09-07T19:20:13.887929Z",
     "iopub.status.busy": "2022-09-07T19:20:13.887502Z",
     "iopub.status.idle": "2022-09-07T19:20:13.939297Z",
     "shell.execute_reply": "2022-09-07T19:20:13.938012Z"
    },
    "papermill": {
     "duration": 0.062864,
     "end_time": "2022-09-07T19:20:13.941755",
     "exception": false,
     "start_time": "2022-09-07T19:20:13.878891",
     "status": "completed"
    },
    "tags": []
   },
   "outputs": [],
   "source": [
    "soup=BeautifulSoup(page.content,'html.parser')"
   ]
  },
  {
   "cell_type": "code",
   "execution_count": 6,
   "id": "df846c59",
   "metadata": {
    "execution": {
     "iopub.execute_input": "2022-09-07T19:20:14.029812Z",
     "iopub.status.busy": "2022-09-07T19:20:14.029425Z",
     "iopub.status.idle": "2022-09-07T19:20:14.036379Z",
     "shell.execute_reply": "2022-09-07T19:20:14.035584Z"
    },
    "papermill": {
     "duration": 0.02055,
     "end_time": "2022-09-07T19:20:14.038374",
     "exception": false,
     "start_time": "2022-09-07T19:20:14.017824",
     "status": "completed"
    },
    "tags": []
   },
   "outputs": [],
   "source": [
    "# html section containing each fund information in first page\n",
    "fund=soup.find_all('tr',class_=\"f22Card\")"
   ]
  },
  {
   "cell_type": "code",
   "execution_count": 7,
   "id": "1cef19ab",
   "metadata": {
    "execution": {
     "iopub.execute_input": "2022-09-07T19:20:14.063172Z",
     "iopub.status.busy": "2022-09-07T19:20:14.062797Z",
     "iopub.status.idle": "2022-09-07T19:20:14.101948Z",
     "shell.execute_reply": "2022-09-07T19:20:14.101022Z"
    },
    "papermill": {
     "duration": 0.054443,
     "end_time": "2022-09-07T19:20:14.104542",
     "exception": false,
     "start_time": "2022-09-07T19:20:14.050099",
     "status": "completed"
    },
    "tags": []
   },
   "outputs": [],
   "source": [
    "name=[]    # name of fund\n",
    "rating=[]  # performance rating of fund by experts \n",
    "return_1yr=[]   # last 1 yr return\n",
    "return_3yr=[]    # last 3 yr return\n",
    "return_5yr=[]    # last 5 yr return\n",
    "risk_type=[]     # degree of risk\n",
    "category=[]      # fund_category\n",
    "\n",
    "for i in fund:\n",
    "    name.append(i.find('div',class_=\"fs14 clrText fw500 f22LH34 f22Mb4 truncate\").text.strip())\n",
    "    return_1yr.append(i.find_all('div',class_=\"fs14 clrText fw500 center-align f22Mb4\")[0].text.strip())\n",
    "    return_3yr.append(i.find_all('div',class_=\"fs14 clrText fw500 center-align f22Mb4\")[1].text.strip())\n",
    "    return_5yr.append(i.find_all('div',class_=\"fs14 clrText fw500 center-align f22Mb4\")[2].text.strip())\n",
    "    risk_type.append(i.find('div',class_=\"fs12 fw500 clrSubText f22Ls2\").text.strip())\n",
    "    category.append(i.find('div',class_=\"fs12 fw500clrSubText f22Ls2\").text.strip())\n",
    "    try: \n",
    "          rating.append(i.find('div',class_=\"fs12 fw500 clrSubText f22Ls2 valign-wrapper\").text.strip())\n",
    "    except:\n",
    "          rating.append(np.nan)\n",
    "            \n",
    "# creating a Dataframe out of first page of results            \n",
    "            \n",
    "d={'Mutual Fund Name':name,'fund_rating':rating,'return_1yr':return_1yr,'return_3yr':return_3yr,'return_5yr':return_5yr,\n",
    "   'risk_type':risk_type,'category':category}\n",
    "df=pd.DataFrame(d)"
   ]
  },
  {
   "cell_type": "code",
   "execution_count": 8,
   "id": "496d0e0d",
   "metadata": {
    "execution": {
     "iopub.execute_input": "2022-09-07T19:20:14.127344Z",
     "iopub.status.busy": "2022-09-07T19:20:14.126933Z",
     "iopub.status.idle": "2022-09-07T19:20:14.152170Z",
     "shell.execute_reply": "2022-09-07T19:20:14.151343Z"
    },
    "papermill": {
     "duration": 0.039318,
     "end_time": "2022-09-07T19:20:14.154509",
     "exception": false,
     "start_time": "2022-09-07T19:20:14.115191",
     "status": "completed"
    },
    "tags": []
   },
   "outputs": [
    {
     "data": {
      "text/html": [
       "<div>\n",
       "<style scoped>\n",
       "    .dataframe tbody tr th:only-of-type {\n",
       "        vertical-align: middle;\n",
       "    }\n",
       "\n",
       "    .dataframe tbody tr th {\n",
       "        vertical-align: top;\n",
       "    }\n",
       "\n",
       "    .dataframe thead th {\n",
       "        text-align: right;\n",
       "    }\n",
       "</style>\n",
       "<table border=\"1\" class=\"dataframe\">\n",
       "  <thead>\n",
       "    <tr style=\"text-align: right;\">\n",
       "      <th></th>\n",
       "      <th>Mutual Fund Name</th>\n",
       "      <th>fund_rating</th>\n",
       "      <th>return_1yr</th>\n",
       "      <th>return_3yr</th>\n",
       "      <th>return_5yr</th>\n",
       "      <th>risk_type</th>\n",
       "      <th>category</th>\n",
       "    </tr>\n",
       "  </thead>\n",
       "  <tbody>\n",
       "    <tr>\n",
       "      <th>0</th>\n",
       "      <td>Quant Small Cap Fund Direct Plan Growth</td>\n",
       "      <td>4</td>\n",
       "      <td>9.98%</td>\n",
       "      <td>54.37%</td>\n",
       "      <td>22.73%</td>\n",
       "      <td>Very High Risk</td>\n",
       "      <td>Equity</td>\n",
       "    </tr>\n",
       "    <tr>\n",
       "      <th>1</th>\n",
       "      <td>Canara Robeco Small Cap Fund Direct Growth</td>\n",
       "      <td>5</td>\n",
       "      <td>20.09%</td>\n",
       "      <td>44.48%</td>\n",
       "      <td>NA%</td>\n",
       "      <td>Very High Risk</td>\n",
       "      <td>Equity</td>\n",
       "    </tr>\n",
       "    <tr>\n",
       "      <th>2</th>\n",
       "      <td>PGIM India Midcap Opportunities Fund Direct Gr...</td>\n",
       "      <td>5</td>\n",
       "      <td>11.02%</td>\n",
       "      <td>44.22%</td>\n",
       "      <td>21.49%</td>\n",
       "      <td>Very High Risk</td>\n",
       "      <td>Equity</td>\n",
       "    </tr>\n",
       "    <tr>\n",
       "      <th>3</th>\n",
       "      <td>Bank of India Small Cap Fund Direct Growth</td>\n",
       "      <td>5</td>\n",
       "      <td>13.16%</td>\n",
       "      <td>44.13%</td>\n",
       "      <td>NA%</td>\n",
       "      <td>Very High Risk</td>\n",
       "      <td>Equity</td>\n",
       "    </tr>\n",
       "    <tr>\n",
       "      <th>4</th>\n",
       "      <td>Quant Tax Plan Direct Growth</td>\n",
       "      <td>5</td>\n",
       "      <td>17.43%</td>\n",
       "      <td>43.88%</td>\n",
       "      <td>23.76%</td>\n",
       "      <td>Very High Risk</td>\n",
       "      <td>Equity</td>\n",
       "    </tr>\n",
       "    <tr>\n",
       "      <th>5</th>\n",
       "      <td>Quant Infrastructure Fund Direct Growth</td>\n",
       "      <td>5</td>\n",
       "      <td>25.78%</td>\n",
       "      <td>43.74%</td>\n",
       "      <td>23.91%</td>\n",
       "      <td>Very High Risk</td>\n",
       "      <td>Equity</td>\n",
       "    </tr>\n",
       "    <tr>\n",
       "      <th>6</th>\n",
       "      <td>Quant Mid Cap Fund Direct Growth</td>\n",
       "      <td>5</td>\n",
       "      <td>20.43%</td>\n",
       "      <td>40.20%</td>\n",
       "      <td>22.03%</td>\n",
       "      <td>Very High Risk</td>\n",
       "      <td>Equity</td>\n",
       "    </tr>\n",
       "    <tr>\n",
       "      <th>7</th>\n",
       "      <td>Quant Flexi Cap Fund Direct Growth</td>\n",
       "      <td>NaN</td>\n",
       "      <td>8.31%</td>\n",
       "      <td>39.82%</td>\n",
       "      <td>19.71%</td>\n",
       "      <td>Very High Risk</td>\n",
       "      <td>Equity</td>\n",
       "    </tr>\n",
       "    <tr>\n",
       "      <th>8</th>\n",
       "      <td>Quant Active Fund Direct Growth</td>\n",
       "      <td>NaN</td>\n",
       "      <td>12.41%</td>\n",
       "      <td>39.22%</td>\n",
       "      <td>23.40%</td>\n",
       "      <td>Very High Risk</td>\n",
       "      <td>Equity</td>\n",
       "    </tr>\n",
       "    <tr>\n",
       "      <th>9</th>\n",
       "      <td>Kotak Small Cap Fund Direct Growth</td>\n",
       "      <td>4</td>\n",
       "      <td>10.06%</td>\n",
       "      <td>39.13%</td>\n",
       "      <td>19.66%</td>\n",
       "      <td>Very High Risk</td>\n",
       "      <td>Equity</td>\n",
       "    </tr>\n",
       "    <tr>\n",
       "      <th>10</th>\n",
       "      <td>Nippon India Small Cap Fund Direct Growth</td>\n",
       "      <td>4</td>\n",
       "      <td>16.31%</td>\n",
       "      <td>38.54%</td>\n",
       "      <td>19.37%</td>\n",
       "      <td>Very High Risk</td>\n",
       "      <td>Equity</td>\n",
       "    </tr>\n",
       "    <tr>\n",
       "      <th>11</th>\n",
       "      <td>Edelweiss Small Cap Fund Direct Growth</td>\n",
       "      <td>4</td>\n",
       "      <td>14.63%</td>\n",
       "      <td>38.28%</td>\n",
       "      <td>NA%</td>\n",
       "      <td>Very High Risk</td>\n",
       "      <td>Equity</td>\n",
       "    </tr>\n",
       "    <tr>\n",
       "      <th>12</th>\n",
       "      <td>Union Small Cap Fund Direct Growth</td>\n",
       "      <td>3</td>\n",
       "      <td>11.19%</td>\n",
       "      <td>35.94%</td>\n",
       "      <td>16.13%</td>\n",
       "      <td>Very High Risk</td>\n",
       "      <td>Equity</td>\n",
       "    </tr>\n",
       "    <tr>\n",
       "      <th>13</th>\n",
       "      <td>Tata Small Cap Fund Direct Growth</td>\n",
       "      <td>3</td>\n",
       "      <td>12.87%</td>\n",
       "      <td>34.46%</td>\n",
       "      <td>NA%</td>\n",
       "      <td>Very High Risk</td>\n",
       "      <td>Equity</td>\n",
       "    </tr>\n",
       "    <tr>\n",
       "      <th>14</th>\n",
       "      <td>SBI Small Cap Fund Direct Growth</td>\n",
       "      <td>4</td>\n",
       "      <td>19.32%</td>\n",
       "      <td>34.37%</td>\n",
       "      <td>20.49%</td>\n",
       "      <td>Very High Risk</td>\n",
       "      <td>Equity</td>\n",
       "    </tr>\n",
       "  </tbody>\n",
       "</table>\n",
       "</div>"
      ],
      "text/plain": [
       "                                     Mutual Fund Name fund_rating return_1yr  \\\n",
       "0             Quant Small Cap Fund Direct Plan Growth           4      9.98%   \n",
       "1          Canara Robeco Small Cap Fund Direct Growth           5     20.09%   \n",
       "2   PGIM India Midcap Opportunities Fund Direct Gr...           5     11.02%   \n",
       "3          Bank of India Small Cap Fund Direct Growth           5     13.16%   \n",
       "4                        Quant Tax Plan Direct Growth           5     17.43%   \n",
       "5             Quant Infrastructure Fund Direct Growth           5     25.78%   \n",
       "6                    Quant Mid Cap Fund Direct Growth           5     20.43%   \n",
       "7                  Quant Flexi Cap Fund Direct Growth         NaN      8.31%   \n",
       "8                     Quant Active Fund Direct Growth         NaN     12.41%   \n",
       "9                  Kotak Small Cap Fund Direct Growth           4     10.06%   \n",
       "10          Nippon India Small Cap Fund Direct Growth           4     16.31%   \n",
       "11             Edelweiss Small Cap Fund Direct Growth           4     14.63%   \n",
       "12                 Union Small Cap Fund Direct Growth           3     11.19%   \n",
       "13                  Tata Small Cap Fund Direct Growth           3     12.87%   \n",
       "14                   SBI Small Cap Fund Direct Growth           4     19.32%   \n",
       "\n",
       "   return_3yr return_5yr       risk_type category  \n",
       "0      54.37%     22.73%  Very High Risk   Equity  \n",
       "1      44.48%        NA%  Very High Risk   Equity  \n",
       "2      44.22%     21.49%  Very High Risk   Equity  \n",
       "3      44.13%        NA%  Very High Risk   Equity  \n",
       "4      43.88%     23.76%  Very High Risk   Equity  \n",
       "5      43.74%     23.91%  Very High Risk   Equity  \n",
       "6      40.20%     22.03%  Very High Risk   Equity  \n",
       "7      39.82%     19.71%  Very High Risk   Equity  \n",
       "8      39.22%     23.40%  Very High Risk   Equity  \n",
       "9      39.13%     19.66%  Very High Risk   Equity  \n",
       "10     38.54%     19.37%  Very High Risk   Equity  \n",
       "11     38.28%        NA%  Very High Risk   Equity  \n",
       "12     35.94%     16.13%  Very High Risk   Equity  \n",
       "13     34.46%        NA%  Very High Risk   Equity  \n",
       "14     34.37%     20.49%  Very High Risk   Equity  "
      ]
     },
     "execution_count": 8,
     "metadata": {},
     "output_type": "execute_result"
    }
   ],
   "source": [
    "df"
   ]
  },
  {
   "cell_type": "markdown",
   "id": "c1bbee15",
   "metadata": {
    "papermill": {
     "duration": 0.010649,
     "end_time": "2022-09-07T19:20:14.175733",
     "exception": false,
     "start_time": "2022-09-07T19:20:14.165084",
     "status": "completed"
    },
    "tags": []
   },
   "source": [
    "# Compiling mutual fund data from all pages of Groww Investment platform"
   ]
  },
  {
   "cell_type": "code",
   "execution_count": 9,
   "id": "fb8f70c1",
   "metadata": {
    "execution": {
     "iopub.execute_input": "2022-09-07T19:20:14.201490Z",
     "iopub.status.busy": "2022-09-07T19:20:14.200723Z",
     "iopub.status.idle": "2022-09-07T19:21:12.133802Z",
     "shell.execute_reply": "2022-09-07T19:21:12.132795Z"
    },
    "papermill": {
     "duration": 57.949747,
     "end_time": "2022-09-07T19:21:12.136455",
     "exception": false,
     "start_time": "2022-09-07T19:20:14.186708",
     "status": "completed"
    },
    "tags": []
   },
   "outputs": [],
   "source": [
    "final=pd.DataFrame()\n",
    "\n",
    "for j in range(73):\n",
    "    url='https://groww.in/mutual-funds/filter?q=&fundSize=&pageNo={}&sortBy=0'.format(j)\n",
    "    page=requests.get(url)\n",
    "    soup=BeautifulSoup(page.content,'html.parser')\n",
    " \n",
    "  #  fund containers\n",
    "    fund=soup.find_all('tr',class_=\"f22Card\")\n",
    "\n",
    "  #scraping all field from each section\n",
    "    name=[]\n",
    "    rating=[]\n",
    "    return_1yr=[]\n",
    "    return_3yr=[]\n",
    "    return_5yr=[]\n",
    "    risk_type=[]\n",
    "    category=[]\n",
    "\n",
    "    for i in fund:\n",
    "        name.append(i.find('div',class_=\"fs14 clrText fw500 f22LH34 f22Mb4 truncate\").text.strip())\n",
    "        return_1yr.append(i.find_all('div',class_=\"fs14 clrText fw500 center-align f22Mb4\")[0].text.strip())\n",
    "        return_3yr.append(i.find_all('div',class_=\"fs14 clrText fw500 center-align f22Mb4\")[1].text.strip())\n",
    "        return_5yr.append(i.find_all('div',class_=\"fs14 clrText fw500 center-align f22Mb4\")[2].text.strip())\n",
    "        risk_type.append(i.find('div',class_=\"fs12 fw500 clrSubText f22Ls2\").text.strip())\n",
    "        category.append(i.find('div',class_=\"fs12 fw500clrSubText f22Ls2\").text.strip())\n",
    "        try: \n",
    "              rating.append(i.find('div',class_=\"fs12 fw500 clrSubText f22Ls2 valign-wrapper\").text.strip())\n",
    "        except:\n",
    "              rating.append(np.nan)\n",
    "\n",
    "    d={'Mutual Fund Name':name,'fund_rating':rating,'return_1yr':return_1yr,\n",
    "      'return_3yr':return_3yr,'return_5yr':return_5yr,\n",
    "      'risk_type':risk_type,'category':category} \n",
    "    \n",
    "    df=pd.DataFrame(d)\n",
    "\n",
    "    #combining dataframes from each page\n",
    "    final=final.append(df,ignore_index=True)  "
   ]
  },
  {
   "cell_type": "code",
   "execution_count": 10,
   "id": "6d800489",
   "metadata": {
    "execution": {
     "iopub.execute_input": "2022-09-07T19:21:12.161203Z",
     "iopub.status.busy": "2022-09-07T19:21:12.160502Z",
     "iopub.status.idle": "2022-09-07T19:21:12.168031Z",
     "shell.execute_reply": "2022-09-07T19:21:12.166652Z"
    },
    "papermill": {
     "duration": 0.022425,
     "end_time": "2022-09-07T19:21:12.170322",
     "exception": false,
     "start_time": "2022-09-07T19:21:12.147897",
     "status": "completed"
    },
    "tags": []
   },
   "outputs": [
    {
     "data": {
      "text/plain": [
       "(1088, 7)"
      ]
     },
     "execution_count": 10,
     "metadata": {},
     "output_type": "execute_result"
    }
   ],
   "source": [
    "final.shape"
   ]
  },
  {
   "cell_type": "code",
   "execution_count": 11,
   "id": "c44e21cf",
   "metadata": {
    "execution": {
     "iopub.execute_input": "2022-09-07T19:21:12.194457Z",
     "iopub.status.busy": "2022-09-07T19:21:12.193443Z",
     "iopub.status.idle": "2022-09-07T19:21:12.217534Z",
     "shell.execute_reply": "2022-09-07T19:21:12.216127Z"
    },
    "papermill": {
     "duration": 0.039184,
     "end_time": "2022-09-07T19:21:12.220375",
     "exception": false,
     "start_time": "2022-09-07T19:21:12.181191",
     "status": "completed"
    },
    "tags": []
   },
   "outputs": [
    {
     "name": "stdout",
     "output_type": "stream",
     "text": [
      "<class 'pandas.core.frame.DataFrame'>\n",
      "RangeIndex: 1088 entries, 0 to 1087\n",
      "Data columns (total 7 columns):\n",
      " #   Column            Non-Null Count  Dtype \n",
      "---  ------            --------------  ----- \n",
      " 0   Mutual Fund Name  1088 non-null   object\n",
      " 1   fund_rating       738 non-null    object\n",
      " 2   return_1yr        1088 non-null   object\n",
      " 3   return_3yr        1088 non-null   object\n",
      " 4   return_5yr        1088 non-null   object\n",
      " 5   risk_type         1088 non-null   object\n",
      " 6   category          1088 non-null   object\n",
      "dtypes: object(7)\n",
      "memory usage: 59.6+ KB\n"
     ]
    }
   ],
   "source": [
    "final.info()"
   ]
  },
  {
   "cell_type": "code",
   "execution_count": 12,
   "id": "9e8d201c",
   "metadata": {
    "execution": {
     "iopub.execute_input": "2022-09-07T19:21:12.245667Z",
     "iopub.status.busy": "2022-09-07T19:21:12.245245Z",
     "iopub.status.idle": "2022-09-07T19:21:12.260989Z",
     "shell.execute_reply": "2022-09-07T19:21:12.259825Z"
    },
    "papermill": {
     "duration": 0.030734,
     "end_time": "2022-09-07T19:21:12.263362",
     "exception": false,
     "start_time": "2022-09-07T19:21:12.232628",
     "status": "completed"
    },
    "tags": []
   },
   "outputs": [
    {
     "data": {
      "text/html": [
       "<div>\n",
       "<style scoped>\n",
       "    .dataframe tbody tr th:only-of-type {\n",
       "        vertical-align: middle;\n",
       "    }\n",
       "\n",
       "    .dataframe tbody tr th {\n",
       "        vertical-align: top;\n",
       "    }\n",
       "\n",
       "    .dataframe thead th {\n",
       "        text-align: right;\n",
       "    }\n",
       "</style>\n",
       "<table border=\"1\" class=\"dataframe\">\n",
       "  <thead>\n",
       "    <tr style=\"text-align: right;\">\n",
       "      <th></th>\n",
       "      <th>Mutual Fund Name</th>\n",
       "      <th>fund_rating</th>\n",
       "      <th>return_1yr</th>\n",
       "      <th>return_3yr</th>\n",
       "      <th>return_5yr</th>\n",
       "      <th>risk_type</th>\n",
       "      <th>category</th>\n",
       "    </tr>\n",
       "  </thead>\n",
       "  <tbody>\n",
       "    <tr>\n",
       "      <th>1080</th>\n",
       "      <td>HDFC Multi Cap Fund Direct Growth</td>\n",
       "      <td>NaN</td>\n",
       "      <td>NA%</td>\n",
       "      <td>NA%</td>\n",
       "      <td>NA%</td>\n",
       "      <td>Very High Risk</td>\n",
       "      <td>Equity</td>\n",
       "    </tr>\n",
       "    <tr>\n",
       "      <th>318</th>\n",
       "      <td>HDFC Top 100 Fund Direct Plan Growth</td>\n",
       "      <td>2</td>\n",
       "      <td>9.64%</td>\n",
       "      <td>16.89%</td>\n",
       "      <td>11.83%</td>\n",
       "      <td>Very High Risk</td>\n",
       "      <td>Equity</td>\n",
       "    </tr>\n",
       "    <tr>\n",
       "      <th>141</th>\n",
       "      <td>PGIM India ELSS Tax Saver Fund Direct Growth</td>\n",
       "      <td>4</td>\n",
       "      <td>8.28%</td>\n",
       "      <td>22.57%</td>\n",
       "      <td>14.16%</td>\n",
       "      <td>Very High Risk</td>\n",
       "      <td>Equity</td>\n",
       "    </tr>\n",
       "  </tbody>\n",
       "</table>\n",
       "</div>"
      ],
      "text/plain": [
       "                                  Mutual Fund Name fund_rating return_1yr  \\\n",
       "1080             HDFC Multi Cap Fund Direct Growth         NaN        NA%   \n",
       "318           HDFC Top 100 Fund Direct Plan Growth           2      9.64%   \n",
       "141   PGIM India ELSS Tax Saver Fund Direct Growth           4      8.28%   \n",
       "\n",
       "     return_3yr return_5yr       risk_type category  \n",
       "1080        NA%        NA%  Very High Risk   Equity  \n",
       "318      16.89%     11.83%  Very High Risk   Equity  \n",
       "141      22.57%     14.16%  Very High Risk   Equity  "
      ]
     },
     "execution_count": 12,
     "metadata": {},
     "output_type": "execute_result"
    }
   ],
   "source": [
    "final.sample(3)"
   ]
  },
  {
   "cell_type": "code",
   "execution_count": 13,
   "id": "3c8fedab",
   "metadata": {
    "execution": {
     "iopub.execute_input": "2022-09-07T19:21:12.287223Z",
     "iopub.status.busy": "2022-09-07T19:21:12.286816Z",
     "iopub.status.idle": "2022-09-07T19:21:12.296809Z",
     "shell.execute_reply": "2022-09-07T19:21:12.295589Z"
    },
    "papermill": {
     "duration": 0.024723,
     "end_time": "2022-09-07T19:21:12.299235",
     "exception": false,
     "start_time": "2022-09-07T19:21:12.274512",
     "status": "completed"
    },
    "tags": []
   },
   "outputs": [],
   "source": [
    "final['return_1yr']=final['return_1yr'].apply(lambda x:x.replace(\"%\",''))\n",
    "final['return_3yr']=final['return_3yr'].apply(lambda x:x.replace(\"%\",''))\n",
    "final['return_5yr']=final['return_5yr'].apply(lambda x:x.replace(\"%\",''))"
   ]
  },
  {
   "cell_type": "code",
   "execution_count": 14,
   "id": "42b87044",
   "metadata": {
    "execution": {
     "iopub.execute_input": "2022-09-07T19:21:12.323552Z",
     "iopub.status.busy": "2022-09-07T19:21:12.323120Z",
     "iopub.status.idle": "2022-09-07T19:21:12.330502Z",
     "shell.execute_reply": "2022-09-07T19:21:12.329435Z"
    },
    "papermill": {
     "duration": 0.021979,
     "end_time": "2022-09-07T19:21:12.332777",
     "exception": false,
     "start_time": "2022-09-07T19:21:12.310798",
     "status": "completed"
    },
    "tags": []
   },
   "outputs": [],
   "source": [
    "final['AMC_name']=final['Mutual Fund Name'].apply(lambda x:x.split()[0])"
   ]
  },
  {
   "cell_type": "code",
   "execution_count": 15,
   "id": "8a6b031d",
   "metadata": {
    "execution": {
     "iopub.execute_input": "2022-09-07T19:21:12.356712Z",
     "iopub.status.busy": "2022-09-07T19:21:12.356326Z",
     "iopub.status.idle": "2022-09-07T19:21:12.370330Z",
     "shell.execute_reply": "2022-09-07T19:21:12.368510Z"
    },
    "papermill": {
     "duration": 0.028811,
     "end_time": "2022-09-07T19:21:12.372693",
     "exception": false,
     "start_time": "2022-09-07T19:21:12.343882",
     "status": "completed"
    },
    "tags": []
   },
   "outputs": [
    {
     "name": "stdout",
     "output_type": "stream",
     "text": [
      "<class 'pandas.core.frame.DataFrame'>\n",
      "RangeIndex: 1088 entries, 0 to 1087\n",
      "Data columns (total 8 columns):\n",
      " #   Column            Non-Null Count  Dtype \n",
      "---  ------            --------------  ----- \n",
      " 0   Mutual Fund Name  1088 non-null   object\n",
      " 1   fund_rating       738 non-null    object\n",
      " 2   return_1yr        1088 non-null   object\n",
      " 3   return_3yr        1088 non-null   object\n",
      " 4   return_5yr        1088 non-null   object\n",
      " 5   risk_type         1088 non-null   object\n",
      " 6   category          1088 non-null   object\n",
      " 7   AMC_name          1088 non-null   object\n",
      "dtypes: object(8)\n",
      "memory usage: 68.1+ KB\n"
     ]
    }
   ],
   "source": [
    "final.info()"
   ]
  },
  {
   "cell_type": "code",
   "execution_count": 16,
   "id": "aeb96572",
   "metadata": {
    "execution": {
     "iopub.execute_input": "2022-09-07T19:21:12.396826Z",
     "iopub.status.busy": "2022-09-07T19:21:12.396435Z",
     "iopub.status.idle": "2022-09-07T19:21:12.402508Z",
     "shell.execute_reply": "2022-09-07T19:21:12.401593Z"
    },
    "papermill": {
     "duration": 0.021005,
     "end_time": "2022-09-07T19:21:12.404908",
     "exception": false,
     "start_time": "2022-09-07T19:21:12.383903",
     "status": "completed"
    },
    "tags": []
   },
   "outputs": [],
   "source": [
    "final['fund_rating'] = pd.to_numeric(final['fund_rating'], errors='coerce')"
   ]
  },
  {
   "cell_type": "code",
   "execution_count": 17,
   "id": "89dc5fc3",
   "metadata": {
    "execution": {
     "iopub.execute_input": "2022-09-07T19:21:12.429515Z",
     "iopub.status.busy": "2022-09-07T19:21:12.428728Z",
     "iopub.status.idle": "2022-09-07T19:21:12.442644Z",
     "shell.execute_reply": "2022-09-07T19:21:12.441322Z"
    },
    "papermill": {
     "duration": 0.029043,
     "end_time": "2022-09-07T19:21:12.445405",
     "exception": false,
     "start_time": "2022-09-07T19:21:12.416362",
     "status": "completed"
    },
    "tags": []
   },
   "outputs": [
    {
     "name": "stdout",
     "output_type": "stream",
     "text": [
      "<class 'pandas.core.frame.DataFrame'>\n",
      "RangeIndex: 1088 entries, 0 to 1087\n",
      "Data columns (total 8 columns):\n",
      " #   Column            Non-Null Count  Dtype  \n",
      "---  ------            --------------  -----  \n",
      " 0   Mutual Fund Name  1088 non-null   object \n",
      " 1   fund_rating       738 non-null    float64\n",
      " 2   return_1yr        1088 non-null   object \n",
      " 3   return_3yr        1088 non-null   object \n",
      " 4   return_5yr        1088 non-null   object \n",
      " 5   risk_type         1088 non-null   object \n",
      " 6   category          1088 non-null   object \n",
      " 7   AMC_name          1088 non-null   object \n",
      "dtypes: float64(1), object(7)\n",
      "memory usage: 68.1+ KB\n"
     ]
    }
   ],
   "source": [
    "final.info()"
   ]
  },
  {
   "cell_type": "code",
   "execution_count": 18,
   "id": "32d97b61",
   "metadata": {
    "execution": {
     "iopub.execute_input": "2022-09-07T19:21:12.470764Z",
     "iopub.status.busy": "2022-09-07T19:21:12.469716Z",
     "iopub.status.idle": "2022-09-07T19:21:12.478698Z",
     "shell.execute_reply": "2022-09-07T19:21:12.477898Z"
    },
    "papermill": {
     "duration": 0.023199,
     "end_time": "2022-09-07T19:21:12.480760",
     "exception": false,
     "start_time": "2022-09-07T19:21:12.457561",
     "status": "completed"
    },
    "tags": []
   },
   "outputs": [
    {
     "data": {
      "text/plain": [
       "0       4.0\n",
       "1       5.0\n",
       "2       5.0\n",
       "3       5.0\n",
       "4       5.0\n",
       "       ... \n",
       "1083    NaN\n",
       "1084    NaN\n",
       "1085    NaN\n",
       "1086    NaN\n",
       "1087    NaN\n",
       "Name: fund_rating, Length: 1088, dtype: float64"
      ]
     },
     "execution_count": 18,
     "metadata": {},
     "output_type": "execute_result"
    }
   ],
   "source": [
    "final['fund_rating'].fillna(np.nan)"
   ]
  },
  {
   "cell_type": "code",
   "execution_count": 19,
   "id": "7f4655f9",
   "metadata": {
    "execution": {
     "iopub.execute_input": "2022-09-07T19:21:12.504846Z",
     "iopub.status.busy": "2022-09-07T19:21:12.504465Z",
     "iopub.status.idle": "2022-09-07T19:21:12.513483Z",
     "shell.execute_reply": "2022-09-07T19:21:12.512322Z"
    },
    "papermill": {
     "duration": 0.02376,
     "end_time": "2022-09-07T19:21:12.515776",
     "exception": false,
     "start_time": "2022-09-07T19:21:12.492016",
     "status": "completed"
    },
    "tags": []
   },
   "outputs": [],
   "source": [
    "for col in ['return_1yr','return_3yr','return_5yr']:\n",
    "    final[col] = pd.to_numeric(final[col], errors='coerce')"
   ]
  },
  {
   "cell_type": "code",
   "execution_count": 20,
   "id": "5833325d",
   "metadata": {
    "execution": {
     "iopub.execute_input": "2022-09-07T19:21:12.542736Z",
     "iopub.status.busy": "2022-09-07T19:21:12.542380Z",
     "iopub.status.idle": "2022-09-07T19:21:12.556753Z",
     "shell.execute_reply": "2022-09-07T19:21:12.555958Z"
    },
    "papermill": {
     "duration": 0.031243,
     "end_time": "2022-09-07T19:21:12.559404",
     "exception": false,
     "start_time": "2022-09-07T19:21:12.528161",
     "status": "completed"
    },
    "tags": []
   },
   "outputs": [
    {
     "name": "stdout",
     "output_type": "stream",
     "text": [
      "<class 'pandas.core.frame.DataFrame'>\n",
      "RangeIndex: 1088 entries, 0 to 1087\n",
      "Data columns (total 8 columns):\n",
      " #   Column            Non-Null Count  Dtype  \n",
      "---  ------            --------------  -----  \n",
      " 0   Mutual Fund Name  1088 non-null   object \n",
      " 1   fund_rating       738 non-null    float64\n",
      " 2   return_1yr        976 non-null    float64\n",
      " 3   return_3yr        829 non-null    float64\n",
      " 4   return_5yr        696 non-null    float64\n",
      " 5   risk_type         1088 non-null   object \n",
      " 6   category          1088 non-null   object \n",
      " 7   AMC_name          1088 non-null   object \n",
      "dtypes: float64(4), object(4)\n",
      "memory usage: 68.1+ KB\n"
     ]
    }
   ],
   "source": [
    "final.info()"
   ]
  },
  {
   "cell_type": "code",
   "execution_count": 21,
   "id": "05a13847",
   "metadata": {
    "execution": {
     "iopub.execute_input": "2022-09-07T19:21:12.583294Z",
     "iopub.status.busy": "2022-09-07T19:21:12.582893Z",
     "iopub.status.idle": "2022-09-07T19:21:12.587048Z",
     "shell.execute_reply": "2022-09-07T19:21:12.586295Z"
    },
    "papermill": {
     "duration": 0.018828,
     "end_time": "2022-09-07T19:21:12.589148",
     "exception": false,
     "start_time": "2022-09-07T19:21:12.570320",
     "status": "completed"
    },
    "tags": []
   },
   "outputs": [],
   "source": [
    "cols=final.columns.to_list()"
   ]
  },
  {
   "cell_type": "code",
   "execution_count": 22,
   "id": "bcfa36aa",
   "metadata": {
    "execution": {
     "iopub.execute_input": "2022-09-07T19:21:12.613691Z",
     "iopub.status.busy": "2022-09-07T19:21:12.613320Z",
     "iopub.status.idle": "2022-09-07T19:21:12.617557Z",
     "shell.execute_reply": "2022-09-07T19:21:12.616772Z"
    },
    "papermill": {
     "duration": 0.019532,
     "end_time": "2022-09-07T19:21:12.620125",
     "exception": false,
     "start_time": "2022-09-07T19:21:12.600593",
     "status": "completed"
    },
    "tags": []
   },
   "outputs": [
    {
     "name": "stdout",
     "output_type": "stream",
     "text": [
      "['Mutual Fund Name', 'fund_rating', 'return_1yr', 'return_3yr', 'return_5yr', 'risk_type', 'category', 'AMC_name']\n"
     ]
    }
   ],
   "source": [
    "print(cols)"
   ]
  },
  {
   "cell_type": "code",
   "execution_count": 23,
   "id": "2d1e81fa",
   "metadata": {
    "execution": {
     "iopub.execute_input": "2022-09-07T19:21:12.645137Z",
     "iopub.status.busy": "2022-09-07T19:21:12.644773Z",
     "iopub.status.idle": "2022-09-07T19:21:12.648905Z",
     "shell.execute_reply": "2022-09-07T19:21:12.648059Z"
    },
    "papermill": {
     "duration": 0.019063,
     "end_time": "2022-09-07T19:21:12.650924",
     "exception": false,
     "start_time": "2022-09-07T19:21:12.631861",
     "status": "completed"
    },
    "tags": []
   },
   "outputs": [],
   "source": [
    "cols=['AMC_name','Mutual Fund Name','category','risk_type','fund_rating','return_1yr', 'return_3yr', 'return_5yr']"
   ]
  },
  {
   "cell_type": "code",
   "execution_count": 24,
   "id": "2dae3179",
   "metadata": {
    "execution": {
     "iopub.execute_input": "2022-09-07T19:21:12.675939Z",
     "iopub.status.busy": "2022-09-07T19:21:12.675334Z",
     "iopub.status.idle": "2022-09-07T19:21:12.683046Z",
     "shell.execute_reply": "2022-09-07T19:21:12.682188Z"
    },
    "papermill": {
     "duration": 0.022877,
     "end_time": "2022-09-07T19:21:12.685392",
     "exception": false,
     "start_time": "2022-09-07T19:21:12.662515",
     "status": "completed"
    },
    "tags": []
   },
   "outputs": [],
   "source": [
    "final=final[cols]"
   ]
  },
  {
   "cell_type": "code",
   "execution_count": 25,
   "id": "9b1af7bc",
   "metadata": {
    "execution": {
     "iopub.execute_input": "2022-09-07T19:21:12.710485Z",
     "iopub.status.busy": "2022-09-07T19:21:12.709862Z",
     "iopub.status.idle": "2022-09-07T19:21:12.716793Z",
     "shell.execute_reply": "2022-09-07T19:21:12.715768Z"
    },
    "papermill": {
     "duration": 0.02197,
     "end_time": "2022-09-07T19:21:12.718894",
     "exception": false,
     "start_time": "2022-09-07T19:21:12.696924",
     "status": "completed"
    },
    "tags": []
   },
   "outputs": [
    {
     "data": {
      "text/plain": [
       "array(['Very High Risk', 'Moderately High Risk', 'High Risk',\n",
       "       'Moderate Risk', 'Low to Moderate Risk', 'Moderately Low Risk',\n",
       "       'Low Risk'], dtype=object)"
      ]
     },
     "execution_count": 25,
     "metadata": {},
     "output_type": "execute_result"
    }
   ],
   "source": [
    "final['risk_type'].unique()"
   ]
  },
  {
   "cell_type": "code",
   "execution_count": 26,
   "id": "39c34a42",
   "metadata": {
    "execution": {
     "iopub.execute_input": "2022-09-07T19:21:12.745055Z",
     "iopub.status.busy": "2022-09-07T19:21:12.743893Z",
     "iopub.status.idle": "2022-09-07T19:21:12.758080Z",
     "shell.execute_reply": "2022-09-07T19:21:12.756957Z"
    },
    "papermill": {
     "duration": 0.030053,
     "end_time": "2022-09-07T19:21:12.760722",
     "exception": false,
     "start_time": "2022-09-07T19:21:12.730669",
     "status": "completed"
    },
    "tags": []
   },
   "outputs": [],
   "source": [
    "final.to_csv('mutual_funds_india.csv')"
   ]
  }
 ],
 "metadata": {
  "kernelspec": {
   "display_name": "mutualfundenv",
   "language": "python",
   "name": "python3"
  },
  "language_info": {
   "codemirror_mode": {
    "name": "ipython",
    "version": 3
   },
   "file_extension": ".py",
   "mimetype": "text/x-python",
   "name": "python",
   "nbconvert_exporter": "python",
   "pygments_lexer": "ipython3",
   "version": "3.10.9 (main, Jan 11 2023, 15:21:40) [GCC 11.2.0]"
  },
  "papermill": {
   "default_parameters": {},
   "duration": 69.760751,
   "end_time": "2022-09-07T19:21:13.493788",
   "environment_variables": {},
   "exception": null,
   "input_path": "__notebook__.ipynb",
   "output_path": "__notebook__.ipynb",
   "parameters": {},
   "start_time": "2022-09-07T19:20:03.733037",
   "version": "2.3.4"
  },
  "vscode": {
   "interpreter": {
    "hash": "b62ae7a52a52dbde505833f5ee188da33a8bf2511b1d345d61427a0318b83a12"
   }
  }
 },
 "nbformat": 4,
 "nbformat_minor": 5
}
